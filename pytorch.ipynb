{
  "nbformat": 4,
  "nbformat_minor": 0,
  "metadata": {
    "colab": {
      "name": "pytorch.ipynb",
      "provenance": [],
      "authorship_tag": "ABX9TyOW01aIS11dhy9kAVZZiMgt",
      "include_colab_link": true
    },
    "kernelspec": {
      "name": "python3",
      "display_name": "Python 3"
    },
    "accelerator": "GPU"
  },
  "cells": [
    {
      "cell_type": "markdown",
      "metadata": {
        "id": "view-in-github",
        "colab_type": "text"
      },
      "source": [
        "<a href=\"https://colab.research.google.com/github/electrolabopen/redesgan/blob/main/pytorch.ipynb\" target=\"_parent\"><img src=\"https://colab.research.google.com/assets/colab-badge.svg\" alt=\"Open In Colab\"/></a>"
      ]
    },
    {
      "cell_type": "markdown",
      "metadata": {
        "id": "3lhneBUeusVA"
      },
      "source": [
        "# Tensores en Pytorch#"
      ]
    },
    {
      "cell_type": "code",
      "metadata": {
        "id": "YlB-gCRGu18S"
      },
      "source": [
        "import torch"
      ],
      "execution_count": 2,
      "outputs": []
    },
    {
      "cell_type": "code",
      "metadata": {
        "id": "Qa3DIMsMvG2r"
      },
      "source": [
        "A = torch.randn(4,4,4)"
      ],
      "execution_count": 3,
      "outputs": []
    },
    {
      "cell_type": "code",
      "metadata": {
        "colab": {
          "base_uri": "https://localhost:8080/"
        },
        "id": "CTCf0PuMviGN",
        "outputId": "e1b101e3-e276-479d-a4ae-928178ed364b"
      },
      "source": [
        "A.size()"
      ],
      "execution_count": 4,
      "outputs": [
        {
          "output_type": "execute_result",
          "data": {
            "text/plain": [
              "torch.Size([4, 4, 4])"
            ]
          },
          "metadata": {
            "tags": []
          },
          "execution_count": 4
        }
      ]
    },
    {
      "cell_type": "code",
      "metadata": {
        "colab": {
          "base_uri": "https://localhost:8080/"
        },
        "id": "iNsuAWtMv6zB",
        "outputId": "6f60faf4-8301-47bd-d527-ff7469d5b8cc"
      },
      "source": [
        "len(A.size())"
      ],
      "execution_count": 5,
      "outputs": [
        {
          "output_type": "execute_result",
          "data": {
            "text/plain": [
              "3"
            ]
          },
          "metadata": {
            "tags": []
          },
          "execution_count": 5
        }
      ]
    },
    {
      "cell_type": "code",
      "metadata": {
        "colab": {
          "base_uri": "https://localhost:8080/"
        },
        "id": "6RL8x57JwCaE",
        "outputId": "4975958d-358f-4c6f-bbda-28e20a2d1c67"
      },
      "source": [
        "A[0]"
      ],
      "execution_count": 6,
      "outputs": [
        {
          "output_type": "execute_result",
          "data": {
            "text/plain": [
              "tensor([[ 0.3474, -0.3178, -0.0059,  0.7113],\n",
              "        [ 0.8271, -0.4409,  0.8878, -2.2628],\n",
              "        [ 0.2030, -1.2079,  0.5862,  1.0913],\n",
              "        [ 0.6011, -1.0319, -0.6854, -1.4643]])"
            ]
          },
          "metadata": {
            "tags": []
          },
          "execution_count": 6
        }
      ]
    },
    {
      "cell_type": "code",
      "metadata": {
        "colab": {
          "base_uri": "https://localhost:8080/"
        },
        "id": "1HjCDEESxsZB",
        "outputId": "5f427faa-ac69-44d7-80df-4f3697be056d"
      },
      "source": [
        "A[0, 0:4,0]"
      ],
      "execution_count": 7,
      "outputs": [
        {
          "output_type": "execute_result",
          "data": {
            "text/plain": [
              "tensor([0.3474, 0.8271, 0.2030, 0.6011])"
            ]
          },
          "metadata": {
            "tags": []
          },
          "execution_count": 7
        }
      ]
    },
    {
      "cell_type": "markdown",
      "metadata": {
        "id": "3i30bXTryTVL"
      },
      "source": [
        "#Enviar a CPU o a GPU#"
      ]
    },
    {
      "cell_type": "code",
      "metadata": {
        "colab": {
          "base_uri": "https://localhost:8080/"
        },
        "id": "5Wnkrf_wyaoZ",
        "outputId": "6faa9c08-140d-4be7-c0b4-90748b30e0c4"
      },
      "source": [
        "A.device"
      ],
      "execution_count": 8,
      "outputs": [
        {
          "output_type": "execute_result",
          "data": {
            "text/plain": [
              "device(type='cpu')"
            ]
          },
          "metadata": {
            "tags": []
          },
          "execution_count": 8
        }
      ]
    },
    {
      "cell_type": "markdown",
      "metadata": {
        "id": "YtGEjueiyt_d"
      },
      "source": [
        "#Ver disponibilidad de GPU#"
      ]
    },
    {
      "cell_type": "code",
      "metadata": {
        "colab": {
          "base_uri": "https://localhost:8080/"
        },
        "id": "SjFMgMwMyzX9",
        "outputId": "1aca8595-f3e5-42ec-ee23-8eddf1bd588a"
      },
      "source": [
        "torch.cuda.is_available()"
      ],
      "execution_count": 9,
      "outputs": [
        {
          "output_type": "execute_result",
          "data": {
            "text/plain": [
              "True"
            ]
          },
          "metadata": {
            "tags": []
          },
          "execution_count": 9
        }
      ]
    },
    {
      "cell_type": "code",
      "metadata": {
        "id": "U7gS-ZW3zb4J"
      },
      "source": [
        "hallaca = torch.device('cuda') if torch.cuda.is_available() else ('cpu')"
      ],
      "execution_count": 10,
      "outputs": []
    },
    {
      "cell_type": "code",
      "metadata": {
        "id": "ysOvthzl0mKg"
      },
      "source": [
        "z = torch.randn(3,5)"
      ],
      "execution_count": 11,
      "outputs": []
    },
    {
      "cell_type": "code",
      "metadata": {
        "colab": {
          "base_uri": "https://localhost:8080/"
        },
        "id": "ka3Soi9F0xtC",
        "outputId": "db98251c-744a-415b-cd4b-c00d9857fe71"
      },
      "source": [
        "z"
      ],
      "execution_count": 12,
      "outputs": [
        {
          "output_type": "execute_result",
          "data": {
            "text/plain": [
              "tensor([[ 0.2763, -1.4244,  1.5097, -1.5118,  0.5102],\n",
              "        [-0.5803,  0.1511,  0.7074,  0.5297, -0.5245],\n",
              "        [ 0.0401, -0.9405, -0.5267,  1.0047, -1.1912]])"
            ]
          },
          "metadata": {
            "tags": []
          },
          "execution_count": 12
        }
      ]
    },
    {
      "cell_type": "code",
      "metadata": {
        "id": "kloPE1Gi08QO"
      },
      "source": [
        "y = torch.ones_like(z, device=hallaca)"
      ],
      "execution_count": 14,
      "outputs": []
    },
    {
      "cell_type": "code",
      "metadata": {
        "colab": {
          "base_uri": "https://localhost:8080/"
        },
        "id": "vmt8Oo_m1iaU",
        "outputId": "bd1ed155-e812-499c-d00d-e99028b2d6a4"
      },
      "source": [
        "y"
      ],
      "execution_count": 15,
      "outputs": [
        {
          "output_type": "execute_result",
          "data": {
            "text/plain": [
              "tensor([[1., 1., 1., 1., 1.],\n",
              "        [1., 1., 1., 1., 1.],\n",
              "        [1., 1., 1., 1., 1.]], device='cuda:0')"
            ]
          },
          "metadata": {
            "tags": []
          },
          "execution_count": 15
        }
      ]
    },
    {
      "cell_type": "code",
      "metadata": {
        "id": "H3ceCzP918ki"
      },
      "source": [
        "z = z.to(hallaca)"
      ],
      "execution_count": 16,
      "outputs": []
    },
    {
      "cell_type": "code",
      "metadata": {
        "colab": {
          "base_uri": "https://localhost:8080/"
        },
        "id": "SLii4dsF2GbB",
        "outputId": "01d3fd10-4061-4714-959e-c5026e5490a5"
      },
      "source": [
        "z + y"
      ],
      "execution_count": 17,
      "outputs": [
        {
          "output_type": "execute_result",
          "data": {
            "text/plain": [
              "tensor([[ 1.2763, -0.4244,  2.5097, -0.5118,  1.5102],\n",
              "        [ 0.4197,  1.1511,  1.7074,  1.5297,  0.4755],\n",
              "        [ 1.0401,  0.0595,  0.4733,  2.0047, -0.1912]], device='cuda:0')"
            ]
          },
          "metadata": {
            "tags": []
          },
          "execution_count": 17
        }
      ]
    },
    {
      "cell_type": "markdown",
      "metadata": {
        "id": "rzpN9NsN2wrR"
      },
      "source": [
        "#Crear capas de Redes Neuronales#"
      ]
    },
    {
      "cell_type": "code",
      "metadata": {
        "id": "toctF4i723rz"
      },
      "source": [
        "import torch\r\n",
        "import torch.nn as nn\r\n",
        "\r\n",
        "linear = nn.Linear(in_features=1000, out_features=10)\r\n"
      ],
      "execution_count": 19,
      "outputs": []
    },
    {
      "cell_type": "markdown",
      "metadata": {
        "id": "KsZnWgxu4uNX"
      },
      "source": [
        "#Convolucion#"
      ]
    },
    {
      "cell_type": "code",
      "metadata": {
        "id": "eNja493-40x3"
      },
      "source": [
        "conv = nn.Conv2d(in_channels=3, out_channels=9, kernel_size=3, stride=1,padding=1)"
      ],
      "execution_count": 22,
      "outputs": []
    },
    {
      "cell_type": "code",
      "metadata": {
        "id": "gcdsKrZO8Hlt"
      },
      "source": [
        "z = torch.randn(1000)"
      ],
      "execution_count": 23,
      "outputs": []
    },
    {
      "cell_type": "code",
      "metadata": {
        "colab": {
          "base_uri": "https://localhost:8080/"
        },
        "id": "XjZNXFmb8R4K",
        "outputId": "27817ca3-2056-4c15-83f6-c7504b62d910"
      },
      "source": [
        "salida = linear(z)\r\n",
        "salida"
      ],
      "execution_count": 24,
      "outputs": [
        {
          "output_type": "execute_result",
          "data": {
            "text/plain": [
              "tensor([ 0.6094,  0.3741, -0.6662, -0.6926,  0.1446, -0.5171, -0.4289,  0.7449,\n",
              "        -0.6249, -0.9685], grad_fn=<AddBackward0>)"
            ]
          },
          "metadata": {
            "tags": []
          },
          "execution_count": 24
        }
      ]
    },
    {
      "cell_type": "markdown",
      "metadata": {
        "id": "gC9nM6jY84h_"
      },
      "source": [
        "#Funciones de activacion#"
      ]
    },
    {
      "cell_type": "code",
      "metadata": {
        "id": "4pYehdDz8-Ra"
      },
      "source": [
        "import torch.nn.functional as F "
      ],
      "execution_count": 25,
      "outputs": []
    },
    {
      "cell_type": "markdown",
      "metadata": {
        "id": "B_0ll7PW9ghZ"
      },
      "source": [
        "#La relu todos los numeros positivos los deja pasar, los numero negativos los aplana a cero#"
      ]
    },
    {
      "cell_type": "code",
      "metadata": {
        "colab": {
          "base_uri": "https://localhost:8080/"
        },
        "id": "HOWv13hs9QBO",
        "outputId": "98f58d02-1dc4-4a19-b44b-1369fc25cb06"
      },
      "source": [
        "F.relu(salida)"
      ],
      "execution_count": 26,
      "outputs": [
        {
          "output_type": "execute_result",
          "data": {
            "text/plain": [
              "tensor([0.6094, 0.3741, 0.0000, 0.0000, 0.1446, 0.0000, 0.0000, 0.7449, 0.0000,\n",
              "        0.0000], grad_fn=<ReluBackward0>)"
            ]
          },
          "metadata": {
            "tags": []
          },
          "execution_count": 26
        }
      ]
    },
    {
      "cell_type": "markdown",
      "metadata": {
        "id": "DlYjZ3mx931X"
      },
      "source": [
        "#Crear la red neuronal#"
      ]
    },
    {
      "cell_type": "code",
      "metadata": {
        "id": "897Yvipj9uvT"
      },
      "source": [
        "class Net(nn.Module):\r\n",
        "  \r\n",
        "    def __int__(self,num_channels):\r\n",
        "\r\n",
        "      super(Net,self).__int__()\r\n",
        "      self.num_channels = num_channels\r\n",
        "\r\n",
        "      self.conv1 = Conv2d(3, self.num_channels,kernel_size=3, stride=1, padding=1)\r\n",
        "\r\n",
        "\r\n",
        "      self.conv2 = Conv2d(self.num_channels, self.num_channels*2, kernel_size=3, stride=1, padding=1)\r\n",
        "\r\n",
        "\r\n",
        "      self.conv3 = Conv2d(self.num_channels*2, self.num_channels*4,kernel_size=3, stride=1, padding=1)\r\n",
        "\r\n",
        "      self.fc1 = nn.Linear(4*self.num_channels*8*8,100)\r\n",
        "\r\n",
        "      self.fc2 = nn.Linear(100,6)\r\n",
        "\r\n",
        "    def forward(self,z):\r\n",
        "\r\n",
        "      #convulucionales\r\n",
        "      z = self.conv1(z)       # num_channels * 64*64\r\n",
        "\r\n",
        "      z = F.max_pool2d(z,2)   #num_channels * 32*32\r\n",
        "\r\n",
        "      z = F.relu(z)           #num_channels * 32*32\r\n",
        "\r\n",
        "      z = self.conv2(z)        # 32*32\r\n",
        "\r\n",
        "      z= F.max_pool2d(z,2)      #16*16\r\n",
        "\r\n",
        "      z= F.relu(z)             # 16*16\r\n",
        "\r\n",
        "      z = self.conv3(z)        # 16*16\r\n",
        "\r\n",
        "      z= F.max_pool2d(z,2)     # 8*8\r\n",
        "\r\n",
        "      z= F.relu(z)             # 8*8\r\n",
        "\r\n",
        "      #Flatten\r\n",
        "\r\n",
        "      z = z.view(-1, 4*self.num_channels*8*8)\r\n",
        "\r\n",
        "\r\n",
        "      #Fully conected\r\n",
        "\r\n",
        "      z = self.fc1(z)\r\n",
        "\r\n",
        "      z = F.relu(z)\r\n",
        "\r\n",
        "      z = self.fc2(z)\r\n",
        "\r\n",
        "      z = F.log_softmax(x,dim=1)\r\n",
        "\r\n",
        "      return z"
      ],
      "execution_count": 28,
      "outputs": []
    }
  ]
}