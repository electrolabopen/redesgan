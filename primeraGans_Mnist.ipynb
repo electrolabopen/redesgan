{
  "nbformat": 4,
  "nbformat_minor": 0,
  "metadata": {
    "colab": {
      "name": "primeraGans_Mnist.ipynb",
      "provenance": [],
      "authorship_tag": "ABX9TyO3+TlugSuTWonUTepUgJXo",
      "include_colab_link": true
    },
    "kernelspec": {
      "name": "python3",
      "display_name": "Python 3"
    },
    "accelerator": "GPU",
    "widgets": {
      "application/vnd.jupyter.widget-state+json": {
        "4b3b7a107f024f38a75a53212013e007": {
          "model_module": "@jupyter-widgets/controls",
          "model_name": "HBoxModel",
          "state": {
            "_view_name": "HBoxView",
            "_dom_classes": [],
            "_model_name": "HBoxModel",
            "_view_module": "@jupyter-widgets/controls",
            "_model_module_version": "1.5.0",
            "_view_count": null,
            "_view_module_version": "1.5.0",
            "box_style": "",
            "layout": "IPY_MODEL_5030be494c60461c86edc997ef843bcb",
            "_model_module": "@jupyter-widgets/controls",
            "children": [
              "IPY_MODEL_1b6512ff2ab348c0b8bf9f70fb24a6c7",
              "IPY_MODEL_d098f631743249788795645896b68978"
            ]
          }
        },
        "5030be494c60461c86edc997ef843bcb": {
          "model_module": "@jupyter-widgets/base",
          "model_name": "LayoutModel",
          "state": {
            "_view_name": "LayoutView",
            "grid_template_rows": null,
            "right": null,
            "justify_content": null,
            "_view_module": "@jupyter-widgets/base",
            "overflow": null,
            "_model_module_version": "1.2.0",
            "_view_count": null,
            "flex_flow": null,
            "width": null,
            "min_width": null,
            "border": null,
            "align_items": null,
            "bottom": null,
            "_model_module": "@jupyter-widgets/base",
            "top": null,
            "grid_column": null,
            "overflow_y": null,
            "overflow_x": null,
            "grid_auto_flow": null,
            "grid_area": null,
            "grid_template_columns": null,
            "flex": null,
            "_model_name": "LayoutModel",
            "justify_items": null,
            "grid_row": null,
            "max_height": null,
            "align_content": null,
            "visibility": null,
            "align_self": null,
            "height": null,
            "min_height": null,
            "padding": null,
            "grid_auto_rows": null,
            "grid_gap": null,
            "max_width": null,
            "order": null,
            "_view_module_version": "1.2.0",
            "grid_template_areas": null,
            "object_position": null,
            "object_fit": null,
            "grid_auto_columns": null,
            "margin": null,
            "display": null,
            "left": null
          }
        },
        "1b6512ff2ab348c0b8bf9f70fb24a6c7": {
          "model_module": "@jupyter-widgets/controls",
          "model_name": "FloatProgressModel",
          "state": {
            "_view_name": "ProgressView",
            "style": "IPY_MODEL_ac281d00c2ad4aba90ddeca7f7434772",
            "_dom_classes": [],
            "description": "",
            "_model_name": "FloatProgressModel",
            "bar_style": "info",
            "max": 1,
            "_view_module": "@jupyter-widgets/controls",
            "_model_module_version": "1.5.0",
            "value": 1,
            "_view_count": null,
            "_view_module_version": "1.5.0",
            "orientation": "horizontal",
            "min": 0,
            "description_tooltip": null,
            "_model_module": "@jupyter-widgets/controls",
            "layout": "IPY_MODEL_985c588106b241e8a9b94664dfe0e460"
          }
        },
        "d098f631743249788795645896b68978": {
          "model_module": "@jupyter-widgets/controls",
          "model_name": "HTMLModel",
          "state": {
            "_view_name": "HTMLView",
            "style": "IPY_MODEL_40385dc053ae40d1b5a19c66f5670f2a",
            "_dom_classes": [],
            "description": "",
            "_model_name": "HTMLModel",
            "placeholder": "​",
            "_view_module": "@jupyter-widgets/controls",
            "_model_module_version": "1.5.0",
            "value": " 9920512/? [00:20&lt;00:00, 31302088.32it/s]",
            "_view_count": null,
            "_view_module_version": "1.5.0",
            "description_tooltip": null,
            "_model_module": "@jupyter-widgets/controls",
            "layout": "IPY_MODEL_18bd2fde94d94505b36f4b4364aee6a6"
          }
        },
        "ac281d00c2ad4aba90ddeca7f7434772": {
          "model_module": "@jupyter-widgets/controls",
          "model_name": "ProgressStyleModel",
          "state": {
            "_view_name": "StyleView",
            "_model_name": "ProgressStyleModel",
            "description_width": "initial",
            "_view_module": "@jupyter-widgets/base",
            "_model_module_version": "1.5.0",
            "_view_count": null,
            "_view_module_version": "1.2.0",
            "bar_color": null,
            "_model_module": "@jupyter-widgets/controls"
          }
        },
        "985c588106b241e8a9b94664dfe0e460": {
          "model_module": "@jupyter-widgets/base",
          "model_name": "LayoutModel",
          "state": {
            "_view_name": "LayoutView",
            "grid_template_rows": null,
            "right": null,
            "justify_content": null,
            "_view_module": "@jupyter-widgets/base",
            "overflow": null,
            "_model_module_version": "1.2.0",
            "_view_count": null,
            "flex_flow": null,
            "width": null,
            "min_width": null,
            "border": null,
            "align_items": null,
            "bottom": null,
            "_model_module": "@jupyter-widgets/base",
            "top": null,
            "grid_column": null,
            "overflow_y": null,
            "overflow_x": null,
            "grid_auto_flow": null,
            "grid_area": null,
            "grid_template_columns": null,
            "flex": null,
            "_model_name": "LayoutModel",
            "justify_items": null,
            "grid_row": null,
            "max_height": null,
            "align_content": null,
            "visibility": null,
            "align_self": null,
            "height": null,
            "min_height": null,
            "padding": null,
            "grid_auto_rows": null,
            "grid_gap": null,
            "max_width": null,
            "order": null,
            "_view_module_version": "1.2.0",
            "grid_template_areas": null,
            "object_position": null,
            "object_fit": null,
            "grid_auto_columns": null,
            "margin": null,
            "display": null,
            "left": null
          }
        },
        "40385dc053ae40d1b5a19c66f5670f2a": {
          "model_module": "@jupyter-widgets/controls",
          "model_name": "DescriptionStyleModel",
          "state": {
            "_view_name": "StyleView",
            "_model_name": "DescriptionStyleModel",
            "description_width": "",
            "_view_module": "@jupyter-widgets/base",
            "_model_module_version": "1.5.0",
            "_view_count": null,
            "_view_module_version": "1.2.0",
            "_model_module": "@jupyter-widgets/controls"
          }
        },
        "18bd2fde94d94505b36f4b4364aee6a6": {
          "model_module": "@jupyter-widgets/base",
          "model_name": "LayoutModel",
          "state": {
            "_view_name": "LayoutView",
            "grid_template_rows": null,
            "right": null,
            "justify_content": null,
            "_view_module": "@jupyter-widgets/base",
            "overflow": null,
            "_model_module_version": "1.2.0",
            "_view_count": null,
            "flex_flow": null,
            "width": null,
            "min_width": null,
            "border": null,
            "align_items": null,
            "bottom": null,
            "_model_module": "@jupyter-widgets/base",
            "top": null,
            "grid_column": null,
            "overflow_y": null,
            "overflow_x": null,
            "grid_auto_flow": null,
            "grid_area": null,
            "grid_template_columns": null,
            "flex": null,
            "_model_name": "LayoutModel",
            "justify_items": null,
            "grid_row": null,
            "max_height": null,
            "align_content": null,
            "visibility": null,
            "align_self": null,
            "height": null,
            "min_height": null,
            "padding": null,
            "grid_auto_rows": null,
            "grid_gap": null,
            "max_width": null,
            "order": null,
            "_view_module_version": "1.2.0",
            "grid_template_areas": null,
            "object_position": null,
            "object_fit": null,
            "grid_auto_columns": null,
            "margin": null,
            "display": null,
            "left": null
          }
        },
        "8d83ab5b20554d5a827d700184336280": {
          "model_module": "@jupyter-widgets/controls",
          "model_name": "HBoxModel",
          "state": {
            "_view_name": "HBoxView",
            "_dom_classes": [],
            "_model_name": "HBoxModel",
            "_view_module": "@jupyter-widgets/controls",
            "_model_module_version": "1.5.0",
            "_view_count": null,
            "_view_module_version": "1.5.0",
            "box_style": "",
            "layout": "IPY_MODEL_d8b59c8c14b740cbad98d8859f7a6f06",
            "_model_module": "@jupyter-widgets/controls",
            "children": [
              "IPY_MODEL_f420618e3a504dfd8e6c80ff0b28fb20",
              "IPY_MODEL_55038e944edc4489a02c8fdb9ab24540"
            ]
          }
        },
        "d8b59c8c14b740cbad98d8859f7a6f06": {
          "model_module": "@jupyter-widgets/base",
          "model_name": "LayoutModel",
          "state": {
            "_view_name": "LayoutView",
            "grid_template_rows": null,
            "right": null,
            "justify_content": null,
            "_view_module": "@jupyter-widgets/base",
            "overflow": null,
            "_model_module_version": "1.2.0",
            "_view_count": null,
            "flex_flow": null,
            "width": null,
            "min_width": null,
            "border": null,
            "align_items": null,
            "bottom": null,
            "_model_module": "@jupyter-widgets/base",
            "top": null,
            "grid_column": null,
            "overflow_y": null,
            "overflow_x": null,
            "grid_auto_flow": null,
            "grid_area": null,
            "grid_template_columns": null,
            "flex": null,
            "_model_name": "LayoutModel",
            "justify_items": null,
            "grid_row": null,
            "max_height": null,
            "align_content": null,
            "visibility": null,
            "align_self": null,
            "height": null,
            "min_height": null,
            "padding": null,
            "grid_auto_rows": null,
            "grid_gap": null,
            "max_width": null,
            "order": null,
            "_view_module_version": "1.2.0",
            "grid_template_areas": null,
            "object_position": null,
            "object_fit": null,
            "grid_auto_columns": null,
            "margin": null,
            "display": null,
            "left": null
          }
        },
        "f420618e3a504dfd8e6c80ff0b28fb20": {
          "model_module": "@jupyter-widgets/controls",
          "model_name": "FloatProgressModel",
          "state": {
            "_view_name": "ProgressView",
            "style": "IPY_MODEL_d5aa72ac0c69462493811f18517d1a64",
            "_dom_classes": [],
            "description": "",
            "_model_name": "FloatProgressModel",
            "bar_style": "info",
            "max": 1,
            "_view_module": "@jupyter-widgets/controls",
            "_model_module_version": "1.5.0",
            "value": 0,
            "_view_count": null,
            "_view_module_version": "1.5.0",
            "orientation": "horizontal",
            "min": 0,
            "description_tooltip": null,
            "_model_module": "@jupyter-widgets/controls",
            "layout": "IPY_MODEL_c43b0d11c984489588705b48f65052fa"
          }
        },
        "55038e944edc4489a02c8fdb9ab24540": {
          "model_module": "@jupyter-widgets/controls",
          "model_name": "HTMLModel",
          "state": {
            "_view_name": "HTMLView",
            "style": "IPY_MODEL_d160a3c337804406af22239956f5a7b7",
            "_dom_classes": [],
            "description": "",
            "_model_name": "HTMLModel",
            "placeholder": "​",
            "_view_module": "@jupyter-widgets/controls",
            "_model_module_version": "1.5.0",
            "value": " 0/? [00:00&lt;?, ?it/s]",
            "_view_count": null,
            "_view_module_version": "1.5.0",
            "description_tooltip": null,
            "_model_module": "@jupyter-widgets/controls",
            "layout": "IPY_MODEL_e0ad532213e94cf8a49f1ab0b3e62919"
          }
        },
        "d5aa72ac0c69462493811f18517d1a64": {
          "model_module": "@jupyter-widgets/controls",
          "model_name": "ProgressStyleModel",
          "state": {
            "_view_name": "StyleView",
            "_model_name": "ProgressStyleModel",
            "description_width": "initial",
            "_view_module": "@jupyter-widgets/base",
            "_model_module_version": "1.5.0",
            "_view_count": null,
            "_view_module_version": "1.2.0",
            "bar_color": null,
            "_model_module": "@jupyter-widgets/controls"
          }
        },
        "c43b0d11c984489588705b48f65052fa": {
          "model_module": "@jupyter-widgets/base",
          "model_name": "LayoutModel",
          "state": {
            "_view_name": "LayoutView",
            "grid_template_rows": null,
            "right": null,
            "justify_content": null,
            "_view_module": "@jupyter-widgets/base",
            "overflow": null,
            "_model_module_version": "1.2.0",
            "_view_count": null,
            "flex_flow": null,
            "width": null,
            "min_width": null,
            "border": null,
            "align_items": null,
            "bottom": null,
            "_model_module": "@jupyter-widgets/base",
            "top": null,
            "grid_column": null,
            "overflow_y": null,
            "overflow_x": null,
            "grid_auto_flow": null,
            "grid_area": null,
            "grid_template_columns": null,
            "flex": null,
            "_model_name": "LayoutModel",
            "justify_items": null,
            "grid_row": null,
            "max_height": null,
            "align_content": null,
            "visibility": null,
            "align_self": null,
            "height": null,
            "min_height": null,
            "padding": null,
            "grid_auto_rows": null,
            "grid_gap": null,
            "max_width": null,
            "order": null,
            "_view_module_version": "1.2.0",
            "grid_template_areas": null,
            "object_position": null,
            "object_fit": null,
            "grid_auto_columns": null,
            "margin": null,
            "display": null,
            "left": null
          }
        },
        "d160a3c337804406af22239956f5a7b7": {
          "model_module": "@jupyter-widgets/controls",
          "model_name": "DescriptionStyleModel",
          "state": {
            "_view_name": "StyleView",
            "_model_name": "DescriptionStyleModel",
            "description_width": "",
            "_view_module": "@jupyter-widgets/base",
            "_model_module_version": "1.5.0",
            "_view_count": null,
            "_view_module_version": "1.2.0",
            "_model_module": "@jupyter-widgets/controls"
          }
        },
        "e0ad532213e94cf8a49f1ab0b3e62919": {
          "model_module": "@jupyter-widgets/base",
          "model_name": "LayoutModel",
          "state": {
            "_view_name": "LayoutView",
            "grid_template_rows": null,
            "right": null,
            "justify_content": null,
            "_view_module": "@jupyter-widgets/base",
            "overflow": null,
            "_model_module_version": "1.2.0",
            "_view_count": null,
            "flex_flow": null,
            "width": null,
            "min_width": null,
            "border": null,
            "align_items": null,
            "bottom": null,
            "_model_module": "@jupyter-widgets/base",
            "top": null,
            "grid_column": null,
            "overflow_y": null,
            "overflow_x": null,
            "grid_auto_flow": null,
            "grid_area": null,
            "grid_template_columns": null,
            "flex": null,
            "_model_name": "LayoutModel",
            "justify_items": null,
            "grid_row": null,
            "max_height": null,
            "align_content": null,
            "visibility": null,
            "align_self": null,
            "height": null,
            "min_height": null,
            "padding": null,
            "grid_auto_rows": null,
            "grid_gap": null,
            "max_width": null,
            "order": null,
            "_view_module_version": "1.2.0",
            "grid_template_areas": null,
            "object_position": null,
            "object_fit": null,
            "grid_auto_columns": null,
            "margin": null,
            "display": null,
            "left": null
          }
        },
        "37758564c93f41e7848146b1fa54471b": {
          "model_module": "@jupyter-widgets/controls",
          "model_name": "HBoxModel",
          "state": {
            "_view_name": "HBoxView",
            "_dom_classes": [],
            "_model_name": "HBoxModel",
            "_view_module": "@jupyter-widgets/controls",
            "_model_module_version": "1.5.0",
            "_view_count": null,
            "_view_module_version": "1.5.0",
            "box_style": "",
            "layout": "IPY_MODEL_c501cb90268449f9b91e11fa88f81355",
            "_model_module": "@jupyter-widgets/controls",
            "children": [
              "IPY_MODEL_708f51bedef541a9bdcde6d8bcc6ea04",
              "IPY_MODEL_81c52a17332442e6876ede84dab7fb52"
            ]
          }
        },
        "c501cb90268449f9b91e11fa88f81355": {
          "model_module": "@jupyter-widgets/base",
          "model_name": "LayoutModel",
          "state": {
            "_view_name": "LayoutView",
            "grid_template_rows": null,
            "right": null,
            "justify_content": null,
            "_view_module": "@jupyter-widgets/base",
            "overflow": null,
            "_model_module_version": "1.2.0",
            "_view_count": null,
            "flex_flow": null,
            "width": null,
            "min_width": null,
            "border": null,
            "align_items": null,
            "bottom": null,
            "_model_module": "@jupyter-widgets/base",
            "top": null,
            "grid_column": null,
            "overflow_y": null,
            "overflow_x": null,
            "grid_auto_flow": null,
            "grid_area": null,
            "grid_template_columns": null,
            "flex": null,
            "_model_name": "LayoutModel",
            "justify_items": null,
            "grid_row": null,
            "max_height": null,
            "align_content": null,
            "visibility": null,
            "align_self": null,
            "height": null,
            "min_height": null,
            "padding": null,
            "grid_auto_rows": null,
            "grid_gap": null,
            "max_width": null,
            "order": null,
            "_view_module_version": "1.2.0",
            "grid_template_areas": null,
            "object_position": null,
            "object_fit": null,
            "grid_auto_columns": null,
            "margin": null,
            "display": null,
            "left": null
          }
        },
        "708f51bedef541a9bdcde6d8bcc6ea04": {
          "model_module": "@jupyter-widgets/controls",
          "model_name": "FloatProgressModel",
          "state": {
            "_view_name": "ProgressView",
            "style": "IPY_MODEL_e450d34232274cba880034ea2d411af9",
            "_dom_classes": [],
            "description": "",
            "_model_name": "FloatProgressModel",
            "bar_style": "info",
            "max": 1,
            "_view_module": "@jupyter-widgets/controls",
            "_model_module_version": "1.5.0",
            "value": 1,
            "_view_count": null,
            "_view_module_version": "1.5.0",
            "orientation": "horizontal",
            "min": 0,
            "description_tooltip": null,
            "_model_module": "@jupyter-widgets/controls",
            "layout": "IPY_MODEL_34bbf2ed79b646b0adafc8af0ed49504"
          }
        },
        "81c52a17332442e6876ede84dab7fb52": {
          "model_module": "@jupyter-widgets/controls",
          "model_name": "HTMLModel",
          "state": {
            "_view_name": "HTMLView",
            "style": "IPY_MODEL_f189b46797f942c2a436d3c7586812c8",
            "_dom_classes": [],
            "description": "",
            "_model_name": "HTMLModel",
            "placeholder": "​",
            "_view_module": "@jupyter-widgets/controls",
            "_model_module_version": "1.5.0",
            "value": " 1654784/? [00:19&lt;00:00, 144731.69it/s]",
            "_view_count": null,
            "_view_module_version": "1.5.0",
            "description_tooltip": null,
            "_model_module": "@jupyter-widgets/controls",
            "layout": "IPY_MODEL_ff5e21f870db4c92b176bfa69bc96f45"
          }
        },
        "e450d34232274cba880034ea2d411af9": {
          "model_module": "@jupyter-widgets/controls",
          "model_name": "ProgressStyleModel",
          "state": {
            "_view_name": "StyleView",
            "_model_name": "ProgressStyleModel",
            "description_width": "initial",
            "_view_module": "@jupyter-widgets/base",
            "_model_module_version": "1.5.0",
            "_view_count": null,
            "_view_module_version": "1.2.0",
            "bar_color": null,
            "_model_module": "@jupyter-widgets/controls"
          }
        },
        "34bbf2ed79b646b0adafc8af0ed49504": {
          "model_module": "@jupyter-widgets/base",
          "model_name": "LayoutModel",
          "state": {
            "_view_name": "LayoutView",
            "grid_template_rows": null,
            "right": null,
            "justify_content": null,
            "_view_module": "@jupyter-widgets/base",
            "overflow": null,
            "_model_module_version": "1.2.0",
            "_view_count": null,
            "flex_flow": null,
            "width": null,
            "min_width": null,
            "border": null,
            "align_items": null,
            "bottom": null,
            "_model_module": "@jupyter-widgets/base",
            "top": null,
            "grid_column": null,
            "overflow_y": null,
            "overflow_x": null,
            "grid_auto_flow": null,
            "grid_area": null,
            "grid_template_columns": null,
            "flex": null,
            "_model_name": "LayoutModel",
            "justify_items": null,
            "grid_row": null,
            "max_height": null,
            "align_content": null,
            "visibility": null,
            "align_self": null,
            "height": null,
            "min_height": null,
            "padding": null,
            "grid_auto_rows": null,
            "grid_gap": null,
            "max_width": null,
            "order": null,
            "_view_module_version": "1.2.0",
            "grid_template_areas": null,
            "object_position": null,
            "object_fit": null,
            "grid_auto_columns": null,
            "margin": null,
            "display": null,
            "left": null
          }
        },
        "f189b46797f942c2a436d3c7586812c8": {
          "model_module": "@jupyter-widgets/controls",
          "model_name": "DescriptionStyleModel",
          "state": {
            "_view_name": "StyleView",
            "_model_name": "DescriptionStyleModel",
            "description_width": "",
            "_view_module": "@jupyter-widgets/base",
            "_model_module_version": "1.5.0",
            "_view_count": null,
            "_view_module_version": "1.2.0",
            "_model_module": "@jupyter-widgets/controls"
          }
        },
        "ff5e21f870db4c92b176bfa69bc96f45": {
          "model_module": "@jupyter-widgets/base",
          "model_name": "LayoutModel",
          "state": {
            "_view_name": "LayoutView",
            "grid_template_rows": null,
            "right": null,
            "justify_content": null,
            "_view_module": "@jupyter-widgets/base",
            "overflow": null,
            "_model_module_version": "1.2.0",
            "_view_count": null,
            "flex_flow": null,
            "width": null,
            "min_width": null,
            "border": null,
            "align_items": null,
            "bottom": null,
            "_model_module": "@jupyter-widgets/base",
            "top": null,
            "grid_column": null,
            "overflow_y": null,
            "overflow_x": null,
            "grid_auto_flow": null,
            "grid_area": null,
            "grid_template_columns": null,
            "flex": null,
            "_model_name": "LayoutModel",
            "justify_items": null,
            "grid_row": null,
            "max_height": null,
            "align_content": null,
            "visibility": null,
            "align_self": null,
            "height": null,
            "min_height": null,
            "padding": null,
            "grid_auto_rows": null,
            "grid_gap": null,
            "max_width": null,
            "order": null,
            "_view_module_version": "1.2.0",
            "grid_template_areas": null,
            "object_position": null,
            "object_fit": null,
            "grid_auto_columns": null,
            "margin": null,
            "display": null,
            "left": null
          }
        },
        "9cfc41948b864062944db7e942f82bb9": {
          "model_module": "@jupyter-widgets/controls",
          "model_name": "HBoxModel",
          "state": {
            "_view_name": "HBoxView",
            "_dom_classes": [],
            "_model_name": "HBoxModel",
            "_view_module": "@jupyter-widgets/controls",
            "_model_module_version": "1.5.0",
            "_view_count": null,
            "_view_module_version": "1.5.0",
            "box_style": "",
            "layout": "IPY_MODEL_5dda239d1ebc40359534e17bf146216e",
            "_model_module": "@jupyter-widgets/controls",
            "children": [
              "IPY_MODEL_65dbaba4214d47a59c906f296b8ac8ad",
              "IPY_MODEL_62f58ce064c840c3ac7867114b6943bc"
            ]
          }
        },
        "5dda239d1ebc40359534e17bf146216e": {
          "model_module": "@jupyter-widgets/base",
          "model_name": "LayoutModel",
          "state": {
            "_view_name": "LayoutView",
            "grid_template_rows": null,
            "right": null,
            "justify_content": null,
            "_view_module": "@jupyter-widgets/base",
            "overflow": null,
            "_model_module_version": "1.2.0",
            "_view_count": null,
            "flex_flow": null,
            "width": null,
            "min_width": null,
            "border": null,
            "align_items": null,
            "bottom": null,
            "_model_module": "@jupyter-widgets/base",
            "top": null,
            "grid_column": null,
            "overflow_y": null,
            "overflow_x": null,
            "grid_auto_flow": null,
            "grid_area": null,
            "grid_template_columns": null,
            "flex": null,
            "_model_name": "LayoutModel",
            "justify_items": null,
            "grid_row": null,
            "max_height": null,
            "align_content": null,
            "visibility": null,
            "align_self": null,
            "height": null,
            "min_height": null,
            "padding": null,
            "grid_auto_rows": null,
            "grid_gap": null,
            "max_width": null,
            "order": null,
            "_view_module_version": "1.2.0",
            "grid_template_areas": null,
            "object_position": null,
            "object_fit": null,
            "grid_auto_columns": null,
            "margin": null,
            "display": null,
            "left": null
          }
        },
        "65dbaba4214d47a59c906f296b8ac8ad": {
          "model_module": "@jupyter-widgets/controls",
          "model_name": "FloatProgressModel",
          "state": {
            "_view_name": "ProgressView",
            "style": "IPY_MODEL_3eef134aa85043ecbbf5b38cb35d04f1",
            "_dom_classes": [],
            "description": "",
            "_model_name": "FloatProgressModel",
            "bar_style": "info",
            "max": 1,
            "_view_module": "@jupyter-widgets/controls",
            "_model_module_version": "1.5.0",
            "value": 0,
            "_view_count": null,
            "_view_module_version": "1.5.0",
            "orientation": "horizontal",
            "min": 0,
            "description_tooltip": null,
            "_model_module": "@jupyter-widgets/controls",
            "layout": "IPY_MODEL_3b6696de70bc416f8f8a6d56bb9359c3"
          }
        },
        "62f58ce064c840c3ac7867114b6943bc": {
          "model_module": "@jupyter-widgets/controls",
          "model_name": "HTMLModel",
          "state": {
            "_view_name": "HTMLView",
            "style": "IPY_MODEL_100e9b8b13804e85aa46e78bfe09d19a",
            "_dom_classes": [],
            "description": "",
            "_model_name": "HTMLModel",
            "placeholder": "​",
            "_view_module": "@jupyter-widgets/controls",
            "_model_module_version": "1.5.0",
            "value": " 0/? [00:00&lt;?, ?it/s]",
            "_view_count": null,
            "_view_module_version": "1.5.0",
            "description_tooltip": null,
            "_model_module": "@jupyter-widgets/controls",
            "layout": "IPY_MODEL_6792f735e6a148f8a864374d25cecf6e"
          }
        },
        "3eef134aa85043ecbbf5b38cb35d04f1": {
          "model_module": "@jupyter-widgets/controls",
          "model_name": "ProgressStyleModel",
          "state": {
            "_view_name": "StyleView",
            "_model_name": "ProgressStyleModel",
            "description_width": "initial",
            "_view_module": "@jupyter-widgets/base",
            "_model_module_version": "1.5.0",
            "_view_count": null,
            "_view_module_version": "1.2.0",
            "bar_color": null,
            "_model_module": "@jupyter-widgets/controls"
          }
        },
        "3b6696de70bc416f8f8a6d56bb9359c3": {
          "model_module": "@jupyter-widgets/base",
          "model_name": "LayoutModel",
          "state": {
            "_view_name": "LayoutView",
            "grid_template_rows": null,
            "right": null,
            "justify_content": null,
            "_view_module": "@jupyter-widgets/base",
            "overflow": null,
            "_model_module_version": "1.2.0",
            "_view_count": null,
            "flex_flow": null,
            "width": null,
            "min_width": null,
            "border": null,
            "align_items": null,
            "bottom": null,
            "_model_module": "@jupyter-widgets/base",
            "top": null,
            "grid_column": null,
            "overflow_y": null,
            "overflow_x": null,
            "grid_auto_flow": null,
            "grid_area": null,
            "grid_template_columns": null,
            "flex": null,
            "_model_name": "LayoutModel",
            "justify_items": null,
            "grid_row": null,
            "max_height": null,
            "align_content": null,
            "visibility": null,
            "align_self": null,
            "height": null,
            "min_height": null,
            "padding": null,
            "grid_auto_rows": null,
            "grid_gap": null,
            "max_width": null,
            "order": null,
            "_view_module_version": "1.2.0",
            "grid_template_areas": null,
            "object_position": null,
            "object_fit": null,
            "grid_auto_columns": null,
            "margin": null,
            "display": null,
            "left": null
          }
        },
        "100e9b8b13804e85aa46e78bfe09d19a": {
          "model_module": "@jupyter-widgets/controls",
          "model_name": "DescriptionStyleModel",
          "state": {
            "_view_name": "StyleView",
            "_model_name": "DescriptionStyleModel",
            "description_width": "",
            "_view_module": "@jupyter-widgets/base",
            "_model_module_version": "1.5.0",
            "_view_count": null,
            "_view_module_version": "1.2.0",
            "_model_module": "@jupyter-widgets/controls"
          }
        },
        "6792f735e6a148f8a864374d25cecf6e": {
          "model_module": "@jupyter-widgets/base",
          "model_name": "LayoutModel",
          "state": {
            "_view_name": "LayoutView",
            "grid_template_rows": null,
            "right": null,
            "justify_content": null,
            "_view_module": "@jupyter-widgets/base",
            "overflow": null,
            "_model_module_version": "1.2.0",
            "_view_count": null,
            "flex_flow": null,
            "width": null,
            "min_width": null,
            "border": null,
            "align_items": null,
            "bottom": null,
            "_model_module": "@jupyter-widgets/base",
            "top": null,
            "grid_column": null,
            "overflow_y": null,
            "overflow_x": null,
            "grid_auto_flow": null,
            "grid_area": null,
            "grid_template_columns": null,
            "flex": null,
            "_model_name": "LayoutModel",
            "justify_items": null,
            "grid_row": null,
            "max_height": null,
            "align_content": null,
            "visibility": null,
            "align_self": null,
            "height": null,
            "min_height": null,
            "padding": null,
            "grid_auto_rows": null,
            "grid_gap": null,
            "max_width": null,
            "order": null,
            "_view_module_version": "1.2.0",
            "grid_template_areas": null,
            "object_position": null,
            "object_fit": null,
            "grid_auto_columns": null,
            "margin": null,
            "display": null,
            "left": null
          }
        }
      }
    }
  },
  "cells": [
    {
      "cell_type": "markdown",
      "metadata": {
        "id": "view-in-github",
        "colab_type": "text"
      },
      "source": [
        "<a href=\"https://colab.research.google.com/github/electrolabopen/redesgan/blob/main/primeraGans_Mnist.ipynb\" target=\"_parent\"><img src=\"https://colab.research.google.com/assets/colab-badge.svg\" alt=\"Open In Colab\"/></a>"
      ]
    },
    {
      "cell_type": "code",
      "metadata": {
        "id": "XnWJMkZh4LV9"
      },
      "source": [
        "import torch\r\n",
        "from torch import nn\r\n",
        "from tqdm.auto import tqdm\r\n",
        "from torchvision import transforms\r\n",
        "from torchvision.datasets import MNIST # Training dataset\r\n",
        "from torchvision.utils import make_grid\r\n",
        "from torch.utils.data import DataLoader\r\n",
        "import matplotlib.pyplot as plt\r\n",
        "torch.manual_seed(0) # Set for testing purposes, please do not change!\r\n",
        "\r\n",
        "def show_tensor_images(image_tensor, num_images=25, size=(1, 28, 28)):\r\n",
        "    '''\r\n",
        "    Function for visualizing images: Given a tensor of images, number of images, and\r\n",
        "    size per image, plots and prints the images in a uniform grid.\r\n",
        "    '''\r\n",
        "    image_unflat = image_tensor.detach().cpu().view(-1, *size)\r\n",
        "    image_grid = make_grid(image_unflat[:num_images], nrow=5)\r\n",
        "    plt.imshow(image_grid.permute(1, 2, 0).squeeze())\r\n",
        "    plt.show()"
      ],
      "execution_count": null,
      "outputs": []
    },
    {
      "cell_type": "code",
      "metadata": {
        "id": "rzdNzi5E5TBB"
      },
      "source": [
        "# UNQ_C1 (UNIQUE CELL IDENTIFIER, DO NOT EDIT)\r\n",
        "# GRADED FUNCTION: get_generator_block\r\n",
        "def get_generator_block(input_dim, output_dim):\r\n",
        "    '''\r\n",
        "    Function for returning a block of the generator's neural network\r\n",
        "    given input and output dimensions.\r\n",
        "    Parameters:\r\n",
        "        input_dim: the dimension of the input vector, a scalar\r\n",
        "        output_dim: the dimension of the output vector, a scalar\r\n",
        "    Returns:\r\n",
        "        a generator neural network layer, with a linear transformation \r\n",
        "          followed by a batch normalization and then a relu activation\r\n",
        "    '''\r\n",
        "    return nn.Sequential(\r\n",
        "        # Hint: Replace all of the \"None\" with the appropriate dimensions.\r\n",
        "        # The documentation may be useful if you're less familiar with PyTorch:\r\n",
        "        # https://pytorch.org/docs/stable/nn.html.\r\n",
        "        #### START CODE HERE ####\r\n",
        "        nn.Linear(input_dim, output_dim),\r\n",
        "        nn.BatchNorm1d(output_dim),\r\n",
        "        nn.ReLU(inplace=True),\r\n",
        "        \r\n",
        "        \r\n",
        "        \r\n",
        "        #### END CODE HERE ####\r\n",
        "    )"
      ],
      "execution_count": null,
      "outputs": []
    },
    {
      "cell_type": "code",
      "metadata": {
        "colab": {
          "base_uri": "https://localhost:8080/"
        },
        "id": "GW7v63pp5ZcZ",
        "outputId": "4f0470d5-48cc-400a-c8a8-c46c3930cfdc"
      },
      "source": [
        "# Verify the generator block function\r\n",
        "def test_gen_block(in_features, out_features, num_test=1000):\r\n",
        "    block = get_generator_block(in_features, out_features)\r\n",
        "\r\n",
        "    # Check the three parts\r\n",
        "    assert len(block) == 3\r\n",
        "    assert type(block[0]) == nn.Linear\r\n",
        "    assert type(block[1]) == nn.BatchNorm1d\r\n",
        "    assert type(block[2]) == nn.ReLU\r\n",
        "    \r\n",
        "    # Check the output shape\r\n",
        "    test_input = torch.randn(num_test, in_features)\r\n",
        "    test_output = block(test_input)\r\n",
        "    assert tuple(test_output.shape) == (num_test, out_features)\r\n",
        "    assert test_output.std() > 0.55\r\n",
        "    assert test_output.std() < 0.65\r\n",
        "\r\n",
        "test_gen_block(25, 12)\r\n",
        "test_gen_block(15, 28)\r\n",
        "print(\"Success!\")"
      ],
      "execution_count": null,
      "outputs": [
        {
          "output_type": "stream",
          "text": [
            "Success!\n"
          ],
          "name": "stdout"
        }
      ]
    },
    {
      "cell_type": "code",
      "metadata": {
        "colab": {
          "base_uri": "https://localhost:8080/"
        },
        "id": "KpD_noH25byh",
        "outputId": "a7536dc6-b799-448e-b7f6-94abfcb9ea94"
      },
      "source": [
        "class Generator(nn.Module):\r\n",
        "    '''\r\n",
        "    Generator Class\r\n",
        "    Values:\r\n",
        "        z_dim: the dimension of the noise vector, a scalar\r\n",
        "        im_dim: the dimension of the images, fitted for the dataset used, a scalar\r\n",
        "          (MNIST images are 28 x 28 = 784 so that is your default)\r\n",
        "        hidden_dim: the inner dimension, a scalar\r\n",
        "    '''\r\n",
        "    def __init__(self, z_dim=10, im_dim=784, hidden_dim=128):\r\n",
        "        super(Generator, self).__init__()\r\n",
        "        # Build the neural network\r\n",
        "        self.gen = nn.Sequential(\r\n",
        "            get_generator_block(z_dim, hidden_dim),\r\n",
        "            get_generator_block(hidden_dim, hidden_dim * 2),\r\n",
        "            get_generator_block(hidden_dim * 2, hidden_dim * 4),\r\n",
        "            get_generator_block(hidden_dim * 4, hidden_dim * 8),\r\n",
        "            # There is a dropdown with hints if you need them! \r\n",
        "            #### START CODE HERE ####\r\n",
        "            nn.Linear(hidden_dim * 8, im_dim),\r\n",
        "            nn.Sigmoid()\r\n",
        "\r\n",
        "            #### END CODE HERE ####\r\n",
        "        )\r\n",
        "    def forward(self, noise):\r\n",
        "        '''\r\n",
        "        Function for completing a forward pass of the generator: Given a noise tensor, \r\n",
        "        returns generated images.\r\n",
        "        Parameters:\r\n",
        "            noise: a noise tensor with dimensions (n_samples, z_dim)\r\n",
        "        '''\r\n",
        "        return self.gen(noise)\r\n",
        "    \r\n",
        "    # Needed for grading\r\n",
        "    def get_gen(self):\r\n",
        "        '''\r\n",
        "        Returns:\r\n",
        "            the sequential model\r\n",
        "        '''\r\n",
        "        return self.gen\r\n",
        "# Verify the generator class\r\n",
        "def test_generator(z_dim, im_dim, hidden_dim, num_test=10000):\r\n",
        "    gen = Generator(z_dim, im_dim, hidden_dim).get_gen()\r\n",
        "    \r\n",
        "    # Check there are six modules in the sequential part\r\n",
        "    assert len(gen) == 6\r\n",
        "    test_input = torch.randn(num_test, z_dim)\r\n",
        "    test_output = gen(test_input)\r\n",
        "\r\n",
        "    # Check that the output shape is correct\r\n",
        "    assert tuple(test_output.shape) == (num_test, im_dim)\r\n",
        "    assert test_output.max() < 1, \"Make sure to use a sigmoid\"\r\n",
        "    assert test_output.min() > 0, \"Make sure to use a sigmoid\"\r\n",
        "    assert test_output.std() > 0.05, \"Don't use batchnorm here\"\r\n",
        "    assert test_output.std() < 0.15, \"Don't use batchnorm here\"\r\n",
        "\r\n",
        "test_generator(5, 10, 20)\r\n",
        "test_generator(20, 8, 24)\r\n",
        "print(\"Success!\")"
      ],
      "execution_count": null,
      "outputs": [
        {
          "output_type": "stream",
          "text": [
            "Success!\n"
          ],
          "name": "stdout"
        }
      ]
    },
    {
      "cell_type": "code",
      "metadata": {
        "id": "Rw1WAseE5maQ"
      },
      "source": [
        "# UNQ_C3 (UNIQUE CELL IDENTIFIER, DO NOT EDIT)\r\n",
        "# GRADED FUNCTION: get_noise\r\n",
        "def get_noise(n_samples, z_dim, device='cpu'):\r\n",
        "    '''\r\n",
        "    Function for creating noise vectors: Given the dimensions (n_samples, z_dim),\r\n",
        "    creates a tensor of that shape filled with random numbers from the normal distribution.\r\n",
        "    Parameters:\r\n",
        "        n_samples: the number of samples to generate, a scalar\r\n",
        "        z_dim: the dimension of the noise vector, a scalar\r\n",
        "        device: the device type\r\n",
        "    '''\r\n",
        "    # NOTE: To use this on GPU with device='cuda', make sure to pass the device \r\n",
        "    # argument to the function you use to generate the noise.\r\n",
        "    #### START CODE HERE ####\r\n",
        "    return torch.randn((n_samples, z_dim), device=device)\r\n",
        "    \r\n",
        "    #### END CODE HERE ####"
      ],
      "execution_count": null,
      "outputs": []
    },
    {
      "cell_type": "code",
      "metadata": {
        "colab": {
          "base_uri": "https://localhost:8080/"
        },
        "id": "xsxDeRVW5r9w",
        "outputId": "d789a390-1eb4-46c7-d742-e8a04dd3f647"
      },
      "source": [
        "# Verify the noise vector function\r\n",
        "def test_get_noise(n_samples, z_dim, device='cpu'):\r\n",
        "    noise = get_noise(n_samples, z_dim, device)\r\n",
        "    \r\n",
        "    # Make sure a normal distribution was used\r\n",
        "    assert tuple(noise.shape) == (n_samples, z_dim)\r\n",
        "    assert torch.abs(noise.std() - torch.tensor(1.0)) < 0.01\r\n",
        "    assert str(noise.device).startswith(device)\r\n",
        "\r\n",
        "test_get_noise(1000, 100, 'cpu')\r\n",
        "if torch.cuda.is_available():\r\n",
        "    test_get_noise(1000, 32, 'cuda')\r\n",
        "print(\"Success!\")"
      ],
      "execution_count": null,
      "outputs": [
        {
          "output_type": "stream",
          "text": [
            "Success!\n"
          ],
          "name": "stdout"
        }
      ]
    },
    {
      "cell_type": "code",
      "metadata": {
        "id": "DPfP_tx45ydq"
      },
      "source": [
        "# UNQ_C4 (UNIQUE CELL IDENTIFIER, DO NOT EDIT)\r\n",
        "# GRADED FUNCTION: get_discriminator_block\r\n",
        "def get_discriminator_block(input_dim, output_dim):\r\n",
        "    '''\r\n",
        "    Discriminator Block\r\n",
        "    Function for returning a neural network of the discriminator given input and output dimensions.\r\n",
        "    Parameters:\r\n",
        "        input_dim: the dimension of the input vector, a scalar\r\n",
        "        output_dim: the dimension of the output vector, a scalar\r\n",
        "    Returns:\r\n",
        "        a discriminator neural network layer, with a linear transformation \r\n",
        "          followed by an nn.LeakyReLU activation with negative slope of 0.2 \r\n",
        "          (https://pytorch.org/docs/master/generated/torch.nn.LeakyReLU.html)\r\n",
        "    '''\r\n",
        "    return nn.Sequential(\r\n",
        "        #### START CODE HERE ####\r\n",
        "        nn.Linear(input_dim, output_dim),\r\n",
        "        nn.LeakyReLU(negative_slope=0.2, inplace=True)\r\n",
        "        \r\n",
        "        #### END CODE HERE ####\r\n",
        "    )"
      ],
      "execution_count": null,
      "outputs": []
    },
    {
      "cell_type": "code",
      "metadata": {
        "colab": {
          "base_uri": "https://localhost:8080/"
        },
        "id": "smyqUEp96Fhg",
        "outputId": "445ebc51-61ba-4f86-f949-b2b5e2f9fe98"
      },
      "source": [
        "# Verify the discriminator block function\r\n",
        "def test_disc_block(in_features, out_features, num_test=10000):\r\n",
        "    block = get_discriminator_block(in_features, out_features)\r\n",
        "\r\n",
        "    # Check there are two parts\r\n",
        "    assert len(block) == 2\r\n",
        "    test_input = torch.randn(num_test, in_features)\r\n",
        "    test_output = block(test_input)\r\n",
        "\r\n",
        "    # Check that the shape is right\r\n",
        "    assert tuple(test_output.shape) == (num_test, out_features)\r\n",
        "    \r\n",
        "    # Check that the LeakyReLU slope is about 0.2\r\n",
        "    assert -test_output.min() / test_output.max() > 0.1\r\n",
        "    assert -test_output.min() / test_output.max() < 0.3\r\n",
        "    assert test_output.std() > 0.3\r\n",
        "    assert test_output.std() < 0.5\r\n",
        "\r\n",
        "test_disc_block(25, 12)\r\n",
        "test_disc_block(15, 28)\r\n",
        "print(\"Success!\")"
      ],
      "execution_count": null,
      "outputs": [
        {
          "output_type": "stream",
          "text": [
            "Success!\n"
          ],
          "name": "stdout"
        }
      ]
    },
    {
      "cell_type": "code",
      "metadata": {
        "id": "d3zcgeTe6MHl"
      },
      "source": [
        "# UNQ_C5 (UNIQUE CELL IDENTIFIER, DO NOT EDIT)\r\n",
        "# GRADED FUNCTION: Discriminator\r\n",
        "class Discriminator(nn.Module):\r\n",
        "    '''\r\n",
        "    Discriminator Class\r\n",
        "    Values:\r\n",
        "        im_dim: the dimension of the images, fitted for the dataset used, a scalar\r\n",
        "            (MNIST images are 28x28 = 784 so that is your default)\r\n",
        "        hidden_dim: the inner dimension, a scalar\r\n",
        "    '''\r\n",
        "    def __init__(self, im_dim=784, hidden_dim=128):\r\n",
        "        super(Discriminator, self).__init__()\r\n",
        "        self.disc = nn.Sequential(\r\n",
        "            get_discriminator_block(im_dim, hidden_dim * 4),\r\n",
        "            get_discriminator_block(hidden_dim * 4, hidden_dim * 2),\r\n",
        "            get_discriminator_block(hidden_dim * 2, hidden_dim),\r\n",
        "            # Hint: You want to transform the final output into a single value,\r\n",
        "            #       so add one more linear map.\r\n",
        "            #### START CODE HERE ####\r\n",
        "            nn.Linear(hidden_dim, 1)\r\n",
        "\r\n",
        "            #### END CODE HERE ####\r\n",
        "        )\r\n",
        "\r\n",
        "    def forward(self, image):\r\n",
        "        '''\r\n",
        "        Function for completing a forward pass of the discriminator: Given an image tensor, \r\n",
        "        returns a 1-dimension tensor representing fake/real.\r\n",
        "        Parameters:\r\n",
        "            image: a flattened image tensor with dimension (im_dim)\r\n",
        "        '''\r\n",
        "        return self.disc(image)\r\n",
        "    \r\n",
        "    # Needed for grading\r\n",
        "    def get_disc(self):\r\n",
        "        '''\r\n",
        "        Returns:\r\n",
        "            the sequential model\r\n",
        "        '''\r\n",
        "        return self.disc"
      ],
      "execution_count": null,
      "outputs": []
    },
    {
      "cell_type": "code",
      "metadata": {
        "colab": {
          "base_uri": "https://localhost:8080/"
        },
        "id": "bsvpoCsM6Re4",
        "outputId": "f1ab02e3-832d-4a54-cd3d-320a75bdd985"
      },
      "source": [
        "# Verify the discriminator class\r\n",
        "def test_discriminator(z_dim, hidden_dim, num_test=100):\r\n",
        "    \r\n",
        "    disc = Discriminator(z_dim, hidden_dim).get_disc()\r\n",
        "\r\n",
        "    # Check there are three parts\r\n",
        "    assert len(disc) == 4\r\n",
        "\r\n",
        "    # Check the linear layer is correct\r\n",
        "    test_input = torch.randn(num_test, z_dim)\r\n",
        "    test_output = disc(test_input)\r\n",
        "    assert tuple(test_output.shape) == (num_test, 1)\r\n",
        "    \r\n",
        "    # Make sure there's no sigmoid\r\n",
        "    assert test_input.max() > 1\r\n",
        "    assert test_input.min() < -1\r\n",
        "\r\n",
        "test_discriminator(5, 10)\r\n",
        "test_discriminator(20, 8)\r\n",
        "print(\"Success!\")"
      ],
      "execution_count": null,
      "outputs": [
        {
          "output_type": "stream",
          "text": [
            "Success!\n"
          ],
          "name": "stdout"
        }
      ]
    },
    {
      "cell_type": "code",
      "metadata": {
        "colab": {
          "base_uri": "https://localhost:8080/",
          "height": 377,
          "referenced_widgets": [
            "4b3b7a107f024f38a75a53212013e007",
            "5030be494c60461c86edc997ef843bcb",
            "1b6512ff2ab348c0b8bf9f70fb24a6c7",
            "d098f631743249788795645896b68978",
            "ac281d00c2ad4aba90ddeca7f7434772",
            "985c588106b241e8a9b94664dfe0e460",
            "40385dc053ae40d1b5a19c66f5670f2a",
            "18bd2fde94d94505b36f4b4364aee6a6",
            "8d83ab5b20554d5a827d700184336280",
            "d8b59c8c14b740cbad98d8859f7a6f06",
            "f420618e3a504dfd8e6c80ff0b28fb20",
            "55038e944edc4489a02c8fdb9ab24540",
            "d5aa72ac0c69462493811f18517d1a64",
            "c43b0d11c984489588705b48f65052fa",
            "d160a3c337804406af22239956f5a7b7",
            "e0ad532213e94cf8a49f1ab0b3e62919",
            "37758564c93f41e7848146b1fa54471b",
            "c501cb90268449f9b91e11fa88f81355",
            "708f51bedef541a9bdcde6d8bcc6ea04",
            "81c52a17332442e6876ede84dab7fb52",
            "e450d34232274cba880034ea2d411af9",
            "34bbf2ed79b646b0adafc8af0ed49504",
            "f189b46797f942c2a436d3c7586812c8",
            "ff5e21f870db4c92b176bfa69bc96f45",
            "9cfc41948b864062944db7e942f82bb9",
            "5dda239d1ebc40359534e17bf146216e",
            "65dbaba4214d47a59c906f296b8ac8ad",
            "62f58ce064c840c3ac7867114b6943bc",
            "3eef134aa85043ecbbf5b38cb35d04f1",
            "3b6696de70bc416f8f8a6d56bb9359c3",
            "100e9b8b13804e85aa46e78bfe09d19a",
            "6792f735e6a148f8a864374d25cecf6e"
          ]
        },
        "id": "4dqpk9316XOJ",
        "outputId": "6ef95f96-816f-415c-d97d-5796f0f798e0"
      },
      "source": [
        "# Set your parameters\r\n",
        "criterion = nn.BCEWithLogitsLoss()\r\n",
        "n_epochs = 200\r\n",
        "z_dim = 64\r\n",
        "display_step = 500\r\n",
        "batch_size = 128\r\n",
        "lr = 0.00001\r\n",
        "device = 'cuda'\r\n",
        "# Load MNIST dataset as tensors\r\n",
        "dataloader = DataLoader(\r\n",
        "    MNIST('.', download=True, transform=transforms.ToTensor()),\r\n",
        "    batch_size=batch_size,\r\n",
        "    shuffle=True)"
      ],
      "execution_count": null,
      "outputs": [
        {
          "output_type": "stream",
          "text": [
            "Downloading http://yann.lecun.com/exdb/mnist/train-images-idx3-ubyte.gz to ./MNIST/raw/train-images-idx3-ubyte.gz\n"
          ],
          "name": "stdout"
        },
        {
          "output_type": "display_data",
          "data": {
            "application/vnd.jupyter.widget-view+json": {
              "model_id": "4b3b7a107f024f38a75a53212013e007",
              "version_minor": 0,
              "version_major": 2
            },
            "text/plain": [
              "HBox(children=(FloatProgress(value=1.0, bar_style='info', max=1.0), HTML(value='')))"
            ]
          },
          "metadata": {
            "tags": []
          }
        },
        {
          "output_type": "stream",
          "text": [
            "Extracting ./MNIST/raw/train-images-idx3-ubyte.gz to ./MNIST/raw\n",
            "Downloading http://yann.lecun.com/exdb/mnist/train-labels-idx1-ubyte.gz to ./MNIST/raw/train-labels-idx1-ubyte.gz\n"
          ],
          "name": "stdout"
        },
        {
          "output_type": "display_data",
          "data": {
            "application/vnd.jupyter.widget-view+json": {
              "model_id": "8d83ab5b20554d5a827d700184336280",
              "version_minor": 0,
              "version_major": 2
            },
            "text/plain": [
              "HBox(children=(FloatProgress(value=1.0, bar_style='info', max=1.0), HTML(value='')))"
            ]
          },
          "metadata": {
            "tags": []
          }
        },
        {
          "output_type": "stream",
          "text": [
            "Extracting ./MNIST/raw/train-labels-idx1-ubyte.gz to ./MNIST/raw\n",
            "Downloading http://yann.lecun.com/exdb/mnist/t10k-images-idx3-ubyte.gz to ./MNIST/raw/t10k-images-idx3-ubyte.gz\n"
          ],
          "name": "stdout"
        },
        {
          "output_type": "display_data",
          "data": {
            "application/vnd.jupyter.widget-view+json": {
              "model_id": "37758564c93f41e7848146b1fa54471b",
              "version_minor": 0,
              "version_major": 2
            },
            "text/plain": [
              "HBox(children=(FloatProgress(value=1.0, bar_style='info', max=1.0), HTML(value='')))"
            ]
          },
          "metadata": {
            "tags": []
          }
        },
        {
          "output_type": "stream",
          "text": [
            "Extracting ./MNIST/raw/t10k-images-idx3-ubyte.gz to ./MNIST/raw\n",
            "Downloading http://yann.lecun.com/exdb/mnist/t10k-labels-idx1-ubyte.gz to ./MNIST/raw/t10k-labels-idx1-ubyte.gz\n"
          ],
          "name": "stdout"
        },
        {
          "output_type": "display_data",
          "data": {
            "application/vnd.jupyter.widget-view+json": {
              "model_id": "9cfc41948b864062944db7e942f82bb9",
              "version_minor": 0,
              "version_major": 2
            },
            "text/plain": [
              "HBox(children=(FloatProgress(value=1.0, bar_style='info', max=1.0), HTML(value='')))"
            ]
          },
          "metadata": {
            "tags": []
          }
        },
        {
          "output_type": "stream",
          "text": [
            "Extracting ./MNIST/raw/t10k-labels-idx1-ubyte.gz to ./MNIST/raw\n",
            "Processing...\n",
            "Done!\n"
          ],
          "name": "stdout"
        },
        {
          "output_type": "stream",
          "text": [
            "/usr/local/lib/python3.6/dist-packages/torchvision/datasets/mnist.py:480: UserWarning: The given NumPy array is not writeable, and PyTorch does not support non-writeable tensors. This means you can write to the underlying (supposedly non-writeable) NumPy array using the tensor. You may want to copy the array to protect its data or make it writeable before converting it to a tensor. This type of warning will be suppressed for the rest of this program. (Triggered internally at  /pytorch/torch/csrc/utils/tensor_numpy.cpp:141.)\n",
            "  return torch.from_numpy(parsed.astype(m[2], copy=False)).view(*s)\n"
          ],
          "name": "stderr"
        }
      ]
    },
    {
      "cell_type": "code",
      "metadata": {
        "id": "dP6fgwxT6n1u"
      },
      "source": [
        "gen = Generator(z_dim).to(device)\r\n",
        "gen_opt = torch.optim.Adam(gen.parameters(), lr=lr)\r\n",
        "disc = Discriminator().to(device) \r\n",
        "disc_opt = torch.optim.Adam(disc.parameters(), lr=lr)"
      ],
      "execution_count": null,
      "outputs": []
    },
    {
      "cell_type": "code",
      "metadata": {
        "id": "duDpaGuo6wCU"
      },
      "source": [
        "# UNQ_C6 (UNIQUE CELL IDENTIFIER, DO NOT EDIT)\r\n",
        "# GRADED FUNCTION: get_disc_loss\r\n",
        "def get_disc_loss(gen, disc, criterion, real, num_images, z_dim, device):\r\n",
        "    '''\r\n",
        "    Return the loss of the discriminator given inputs.\r\n",
        "    Parameters:\r\n",
        "        gen: the generator model, which returns an image given z-dimensional noise\r\n",
        "        disc: the discriminator model, which returns a single-dimensional prediction of real/fake\r\n",
        "        criterion: the loss function, which should be used to compare \r\n",
        "               the discriminator's predictions to the ground truth reality of the images \r\n",
        "               (e.g. fake = 0, real = 1)\r\n",
        "        real: a batch of real images\r\n",
        "        num_images: the number of images the generator should produce, \r\n",
        "                which is also the length of the real images\r\n",
        "        z_dim: the dimension of the noise vector, a scalar\r\n",
        "        device: the device type\r\n",
        "    Returns:\r\n",
        "        disc_loss: a torch scalar loss value for the current batch\r\n",
        "    '''\r\n",
        "    #     These are the steps you will need to complete:\r\n",
        "    #       1) Create noise vectors and generate a batch (num_images) of fake images. \r\n",
        "    #            Make sure to pass the device argument to the noise.\r\n",
        "    #       2) Get the discriminator's prediction of the fake image \r\n",
        "    #            and calculate the loss. Don't forget to detach the generator!\r\n",
        "    #            (Remember the loss function you set earlier -- criterion. You need a \r\n",
        "    #            'ground truth' tensor in order to calculate the loss. \r\n",
        "    #            For example, a ground truth tensor for a fake image is all zeros.)\r\n",
        "    #       3) Get the discriminator's prediction of the real image and calculate the loss.\r\n",
        "    #       4) Calculate the discriminator's loss by averaging the real and fake loss\r\n",
        "    #            and set it to disc_loss.\r\n",
        "    #     Note: Please do not use concatenation in your solution. The tests are being updated to \r\n",
        "    #           support this, but for now, average the two losses as described in step (4).\r\n",
        "    #     *Important*: You should NOT write your own loss function here - use criterion(pred, true)!\r\n",
        "    #### START CODE HERE ####\r\n",
        "    noise = get_noise(num_images, z_dim, device)\r\n",
        "    fake_loss = criterion(disc(gen(noise).detach()), torch.zeros(num_images, 1).to(device))\r\n",
        "    real_loss = criterion(disc(real), torch.ones(num_images, 1).to(device))\r\n",
        "    disc_loss = (fake_loss + real_loss) / 2\r\n",
        "\r\n",
        "    #### END CODE HERE ####\r\n",
        "    return disc_loss"
      ],
      "execution_count": null,
      "outputs": []
    },
    {
      "cell_type": "code",
      "metadata": {
        "colab": {
          "base_uri": "https://localhost:8080/"
        },
        "id": "3xlX2xrH62LA",
        "outputId": "2e8bfe5a-2667-4e4e-a032-86c80a7834a3"
      },
      "source": [
        "def test_disc_reasonable(num_images=10):\r\n",
        "    # Don't use explicit casts to cuda - use the device argument\r\n",
        "    import inspect, re\r\n",
        "    lines = inspect.getsource(get_disc_loss)\r\n",
        "    assert (re.search(r\"to\\(.cuda.\\)\", lines)) is None\r\n",
        "    assert (re.search(r\"\\.cuda\\(\\)\", lines)) is None\r\n",
        "    \r\n",
        "    z_dim = 64\r\n",
        "    gen = torch.zeros_like\r\n",
        "    disc = nn.Identity()\r\n",
        "    criterion = torch.mul # Multiply\r\n",
        "    real = torch.ones(num_images, 1)\r\n",
        "    disc_loss = get_disc_loss(gen, disc, criterion, real, num_images, z_dim, 'cpu')\r\n",
        "    assert tuple(disc_loss.shape) == (num_images, z_dim)\r\n",
        "    assert torch.all(torch.abs(disc_loss - 0.5) < 1e-5)\r\n",
        "\r\n",
        "    gen = torch.ones_like\r\n",
        "    disc = nn.Identity()\r\n",
        "    criterion = torch.mul # Multiply\r\n",
        "    real = torch.zeros(num_images, 1)\r\n",
        "    assert torch.all(torch.abs(get_disc_loss(gen, disc, criterion, real, num_images, z_dim, 'cpu')) < 1e-5)\r\n",
        "\r\n",
        "def test_disc_loss(max_tests = 10):\r\n",
        "    z_dim = 64\r\n",
        "    gen = Generator(z_dim).to(device)\r\n",
        "    gen_opt = torch.optim.Adam(gen.parameters(), lr=lr)\r\n",
        "    disc = Discriminator().to(device) \r\n",
        "    disc_opt = torch.optim.Adam(disc.parameters(), lr=lr)\r\n",
        "    num_steps = 0\r\n",
        "    for real, _ in dataloader:\r\n",
        "        cur_batch_size = len(real)\r\n",
        "        real = real.view(cur_batch_size, -1).to(device)\r\n",
        "\r\n",
        "        ### Update discriminator ###\r\n",
        "        # Zero out the gradient before backpropagation\r\n",
        "        disc_opt.zero_grad()\r\n",
        "\r\n",
        "        # Calculate discriminator loss\r\n",
        "        disc_loss = get_disc_loss(gen, disc, criterion, real, cur_batch_size, z_dim, device)\r\n",
        "        assert (disc_loss - 0.68).abs() < 0.05\r\n",
        "\r\n",
        "        # Update gradients\r\n",
        "        disc_loss.backward(retain_graph=True)\r\n",
        "\r\n",
        "        # Check that they detached correctly\r\n",
        "        assert gen.gen[0][0].weight.grad is None\r\n",
        "\r\n",
        "        # Update optimizer\r\n",
        "        old_weight = disc.disc[0][0].weight.data.clone()\r\n",
        "        disc_opt.step()\r\n",
        "        new_weight = disc.disc[0][0].weight.data\r\n",
        "        \r\n",
        "        # Check that some discriminator weights changed\r\n",
        "        assert not torch.all(torch.eq(old_weight, new_weight))\r\n",
        "        num_steps += 1\r\n",
        "        if num_steps >= max_tests:\r\n",
        "            break\r\n",
        "\r\n",
        "test_disc_reasonable()\r\n",
        "test_disc_loss()\r\n",
        "print(\"Success!\")"
      ],
      "execution_count": null,
      "outputs": [
        {
          "output_type": "stream",
          "text": [
            "Success!\n"
          ],
          "name": "stdout"
        }
      ]
    },
    {
      "cell_type": "code",
      "metadata": {
        "id": "kMITvctq67pr"
      },
      "source": [
        "# UNQ_C7 (UNIQUE CELL IDENTIFIER, DO NOT EDIT)\r\n",
        "# GRADED FUNCTION: get_gen_loss\r\n",
        "def get_gen_loss(gen, disc, criterion, num_images, z_dim, device):\r\n",
        "    '''\r\n",
        "    Return the loss of the generator given inputs.\r\n",
        "    Parameters:\r\n",
        "        gen: the generator model, which returns an image given z-dimensional noise\r\n",
        "        disc: the discriminator model, which returns a single-dimensional prediction of real/fake\r\n",
        "        criterion: the loss function, which should be used to compare \r\n",
        "               the discriminator's predictions to the ground truth reality of the images \r\n",
        "               (e.g. fake = 0, real = 1)\r\n",
        "        num_images: the number of images the generator should produce, \r\n",
        "                which is also the length of the real images\r\n",
        "        z_dim: the dimension of the noise vector, a scalar\r\n",
        "        device: the device type\r\n",
        "    Returns:\r\n",
        "        gen_loss: a torch scalar loss value for the current batch\r\n",
        "    '''\r\n",
        "    #     These are the steps you will need to complete:\r\n",
        "    #       1) Create noise vectors and generate a batch of fake images. \r\n",
        "    #           Remember to pass the device argument to the get_noise function.\r\n",
        "    #       2) Get the discriminator's prediction of the fake image.\r\n",
        "    #       3) Calculate the generator's loss. Remember the generator wants\r\n",
        "    #          the discriminator to think that its fake images are real\r\n",
        "    #     *Important*: You should NOT write your own loss function here - use criterion(pred, true)!\r\n",
        "\r\n",
        "    #### START CODE HERE ####\r\n",
        "    noise = get_noise(num_images, z_dim, device)\r\n",
        "    gen_loss = criterion(disc(gen(noise)), torch.ones(num_images, 1).to(device))\r\n",
        "\r\n",
        "    #### END CODE HERE ####\r\n",
        "    return gen_loss"
      ],
      "execution_count": null,
      "outputs": []
    },
    {
      "cell_type": "code",
      "metadata": {
        "colab": {
          "base_uri": "https://localhost:8080/"
        },
        "id": "uDGUrq917CIx",
        "outputId": "54f8f47d-8909-4fcf-b2c3-bb6c324ff101"
      },
      "source": [
        "def test_gen_reasonable(num_images=10):\r\n",
        "    # Don't use explicit casts to cuda - use the device argument\r\n",
        "    import inspect, re\r\n",
        "    lines = inspect.getsource(get_gen_loss)\r\n",
        "    assert (re.search(r\"to\\(.cuda.\\)\", lines)) is None\r\n",
        "    assert (re.search(r\"\\.cuda\\(\\)\", lines)) is None\r\n",
        "    \r\n",
        "    z_dim = 64\r\n",
        "    gen = torch.zeros_like\r\n",
        "    disc = nn.Identity()\r\n",
        "    criterion = torch.mul # Multiply\r\n",
        "    gen_loss_tensor = get_gen_loss(gen, disc, criterion, num_images, z_dim, 'cpu')\r\n",
        "    assert torch.all(torch.abs(gen_loss_tensor) < 1e-5)\r\n",
        "    #Verify shape. Related to gen_noise parametrization\r\n",
        "    assert tuple(gen_loss_tensor.shape) == (num_images, z_dim)\r\n",
        "\r\n",
        "    gen = torch.ones_like\r\n",
        "    disc = nn.Identity()\r\n",
        "    criterion = torch.mul # Multiply\r\n",
        "    real = torch.zeros(num_images, 1)\r\n",
        "    gen_loss_tensor = get_gen_loss(gen, disc, criterion, num_images, z_dim, 'cpu')\r\n",
        "    assert torch.all(torch.abs(gen_loss_tensor - 1) < 1e-5)\r\n",
        "    #Verify shape. Related to gen_noise parametrization\r\n",
        "    assert tuple(gen_loss_tensor.shape) == (num_images, z_dim)\r\n",
        "    \r\n",
        "\r\n",
        "def test_gen_loss(num_images):\r\n",
        "    z_dim = 64\r\n",
        "    gen = Generator(z_dim).to(device)\r\n",
        "    gen_opt = torch.optim.Adam(gen.parameters(), lr=lr)\r\n",
        "    disc = Discriminator().to(device) \r\n",
        "    disc_opt = torch.optim.Adam(disc.parameters(), lr=lr)\r\n",
        "    \r\n",
        "    gen_loss = get_gen_loss(gen, disc, criterion, num_images, z_dim, device)\r\n",
        "    \r\n",
        "    # Check that the loss is reasonable\r\n",
        "    assert (gen_loss - 0.7).abs() < 0.1\r\n",
        "    gen_loss.backward()\r\n",
        "    old_weight = gen.gen[0][0].weight.clone()\r\n",
        "    gen_opt.step()\r\n",
        "    new_weight = gen.gen[0][0].weight\r\n",
        "    assert not torch.all(torch.eq(old_weight, new_weight))\r\n",
        "\r\n",
        "\r\n",
        "test_gen_reasonable(10)\r\n",
        "test_gen_loss(18)\r\n",
        "print(\"Success!\")"
      ],
      "execution_count": null,
      "outputs": [
        {
          "output_type": "stream",
          "text": [
            "Success!\n"
          ],
          "name": "stdout"
        }
      ]
    },
    {
      "cell_type": "code",
      "metadata": {
        "colab": {
          "base_uri": "https://localhost:8080/",
          "height": 592,
          "referenced_widgets": [
            "0f61860e391944fa8e8b0441a810f9d5"
          ]
        },
        "id": "H1Rhn6vA7KUi",
        "outputId": "f7bbdaae-61b1-4afd-c11b-6ee0ef3509a2"
      },
      "source": [
        "# UNQ_C8 (UNIQUE CELL IDENTIFIER, DO NOT EDIT)\r\n",
        "# GRADED FUNCTION: \r\n",
        "\r\n",
        "cur_step = 0\r\n",
        "mean_generator_loss = 0\r\n",
        "mean_discriminator_loss = 0\r\n",
        "test_generator = True # Whether the generator should be tested\r\n",
        "gen_loss = False\r\n",
        "error = False\r\n",
        "for epoch in range(n_epochs):\r\n",
        "  \r\n",
        "    # Dataloader returns the batches\r\n",
        "    for real, _ in tqdm(dataloader):\r\n",
        "        cur_batch_size = len(real)\r\n",
        "\r\n",
        "        # Flatten the batch of real images from the dataset\r\n",
        "        real = real.view(cur_batch_size, -1).to(device)\r\n",
        "\r\n",
        "        ### Update discriminator ###\r\n",
        "        # Zero out the gradients before backpropagation\r\n",
        "        disc_opt.zero_grad()\r\n",
        "\r\n",
        "        # Calculate discriminator loss\r\n",
        "        disc_loss = get_disc_loss(gen, disc, criterion, real, cur_batch_size, z_dim, device)\r\n",
        "\r\n",
        "        # Update gradients\r\n",
        "        disc_loss.backward(retain_graph=True)\r\n",
        "\r\n",
        "        # Update optimizer\r\n",
        "        disc_opt.step()\r\n",
        "\r\n",
        "        # For testing purposes, to keep track of the generator weights\r\n",
        "        if test_generator:\r\n",
        "            old_generator_weights = gen.gen[0][0].weight.detach().clone()\r\n",
        "\r\n",
        "        ### Update generator ###\r\n",
        "        #     Hint: This code will look a lot like the discriminator updates!\r\n",
        "        #     These are the steps you will need to complete:\r\n",
        "        #       1) Zero out the gradients.\r\n",
        "        #       2) Calculate the generator loss, assigning it to gen_loss.\r\n",
        "        #       3) Backprop through the generator: update the gradients and optimizer.\r\n",
        "        #### START CODE HERE ####\r\n",
        "        gen_opt.zero_grad()\r\n",
        "        gen_loss = get_gen_loss(gen, disc, criterion, cur_batch_size, z_dim, device)\r\n",
        "        gen_loss.backward(retain_graph=True)\r\n",
        "        gen_opt.step()\r\n",
        "        #### END CODE HERE ####\r\n",
        "\r\n",
        "        # For testing purposes, to check that your code changes the generator weights\r\n",
        "        if test_generator:\r\n",
        "            try:\r\n",
        "                assert lr > 0.0000002 or (gen.gen[0][0].weight.grad.abs().max() < 0.0005 and epoch == 0)\r\n",
        "                assert torch.any(gen.gen[0][0].weight.detach().clone() != old_generator_weights)\r\n",
        "            except:\r\n",
        "                error = True\r\n",
        "                print(\"Runtime tests have failed\")\r\n",
        "\r\n",
        "        # Keep track of the average discriminator loss\r\n",
        "        mean_discriminator_loss += disc_loss.item() / display_step\r\n",
        "\r\n",
        "        # Keep track of the average generator loss\r\n",
        "        mean_generator_loss += gen_loss.item() / display_step\r\n",
        "\r\n",
        "        ### Visualization code ###\r\n",
        "        if cur_step % display_step == 0 and cur_step > 0:\r\n",
        "            print(f\"Step {cur_step}: Generator loss: {mean_generator_loss}, discriminator loss: {mean_discriminator_loss}\")\r\n",
        "            fake_noise = get_noise(cur_batch_size, z_dim, device=device)\r\n",
        "            fake = gen(fake_noise)\r\n",
        "            show_tensor_images(fake)\r\n",
        "            show_tensor_images(real)\r\n",
        "            mean_generator_loss = 0\r\n",
        "            mean_discriminator_loss = 0\r\n",
        "        cur_step += 1"
      ],
      "execution_count": null,
      "outputs": [
        {
          "output_type": "stream",
          "text": [
            "\n"
          ],
          "name": "stdout"
        },
        {
          "output_type": "display_data",
          "data": {
            "application/vnd.jupyter.widget-view+json": {
              "model_id": "0f61860e391944fa8e8b0441a810f9d5",
              "version_minor": 0,
              "version_major": 2
            },
            "text/plain": [
              "HBox(children=(FloatProgress(value=0.0, max=469.0), HTML(value='')))"
            ]
          },
          "metadata": {
            "tags": []
          }
        },
        {
          "output_type": "stream",
          "text": [
            "Step 93500: Generator loss: 1.2384387812614441, discriminator loss: 0.4693985572457311\n"
          ],
          "name": "stdout"
        },
        {
          "output_type": "display_data",
          "data": {
            "image/png": "[encoded data removed]",
            "text/plain": [
              "<Figure size 432x288 with 1 Axes>"
            ]
          },
          "metadata": {
            "tags": [],
            "needs_background": "light"
          }
        },
        {
          "output_type": "display_data",
          "data": {
            "image/png": "[encoded data removed]",
            "text/plain": [
              "<Figure size 432x288 with 1 Axes>"
            ]
          },
          "metadata": {
            "tags": [],
            "needs_background": "light"
          }
        },
        {
          "output_type": "stream",
          "text": [
            "\n"
          ],
          "name": "stdout"
        }
      ]
    }
  ]
}