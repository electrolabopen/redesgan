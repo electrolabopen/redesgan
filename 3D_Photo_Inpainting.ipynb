{
  "nbformat": 4,
  "nbformat_minor": 0,
  "metadata": {
    "colab": {
      "name": "3D_Photo_Inpainting.ipynb",
      "provenance": [],
      "collapsed_sections": [],
      "include_colab_link": true
    },
    "kernelspec": {
      "name": "python3",
      "display_name": "Python 3"
    },
    "accelerator": "GPU"
  },
  "cells": [
    {
      "cell_type": "markdown",
      "metadata": {
        "id": "view-in-github",
        "colab_type": "text"
      },
      "source": [
        "<a href=\"https://colab.research.google.com/github/electrolabopen/redesgan/blob/main/3D_Photo_Inpainting.ipynb\" target=\"_parent\"><img src=\"https://colab.research.google.com/assets/colab-badge.svg\" alt=\"Open In Colab\"/></a>"
      ]
    },
    {
      "cell_type": "markdown",
      "metadata": {
        "id": "IY-s3ZpHBeAU"
      },
      "source": [
        "**[CVPR 2020] 3D Photography using Context-aware Layered Depth Inpainting**\n",
        "\n",
        "[project website](https://shihmengli.github.io/3D-Photo-Inpainting/)"
      ]
    },
    {
      "cell_type": "markdown",
      "metadata": {
        "id": "LPQ0EWxgvMIc"
      },
      "source": [
        "- **Prepare environment**\n"
      ]
    },
    {
      "cell_type": "code",
      "metadata": {
        "id": "5o-EIMeaghU0",
        "outputId": "ba532293-1658-4f16-e176-4eac716b88cb",
        "colab": {
          "base_uri": "https://localhost:8080/",
          "height": 1000
        }
      },
      "source": [
        "!pip3 install torch==1.4.0+cu100 torchvision==0.5.0+cu100 -f https://download.pytorch.org/whl/torch_stable.html\n",
        "!pip3 install opencv-python==4.2.0.32\n",
        "!pip3 install vispy==0.6.4\n",
        "!pip3 install moviepy==1.0.2\n",
        "!pip3 install transforms3d==0.3.1\n",
        "!pip3 install networkx==2.3\n",
        "!sudo apt install sed"
      ],
      "execution_count": 1,
      "outputs": [
        {
          "output_type": "stream",
          "text": [
            "Looking in links: https://download.pytorch.org/whl/torch_stable.html\n",
            "Collecting torch==1.4.0+cu100\n",
            "\u001b[?25l  Downloading https://download.pytorch.org/whl/cu100/torch-1.4.0%2Bcu100-cp36-cp36m-linux_x86_64.whl (723.9MB)\n",
            "\u001b[K     |████████████████████████████████| 723.9MB 26kB/s \n",
            "\u001b[?25hCollecting torchvision==0.5.0+cu100\n",
            "\u001b[?25l  Downloading https://download.pytorch.org/whl/cu100/torchvision-0.5.0%2Bcu100-cp36-cp36m-linux_x86_64.whl (4.0MB)\n",
            "\u001b[K     |████████████████████████████████| 4.1MB 62.3MB/s \n",
            "\u001b[?25hRequirement already satisfied: six in /usr/local/lib/python3.6/dist-packages (from torchvision==0.5.0+cu100) (1.15.0)\n",
            "Requirement already satisfied: numpy in /usr/local/lib/python3.6/dist-packages (from torchvision==0.5.0+cu100) (1.18.5)\n",
            "Requirement already satisfied: pillow>=4.1.1 in /usr/local/lib/python3.6/dist-packages (from torchvision==0.5.0+cu100) (7.0.0)\n",
            "Installing collected packages: torch, torchvision\n",
            "  Found existing installation: torch 1.6.0+cu101\n",
            "    Uninstalling torch-1.6.0+cu101:\n",
            "      Successfully uninstalled torch-1.6.0+cu101\n",
            "  Found existing installation: torchvision 0.7.0+cu101\n",
            "    Uninstalling torchvision-0.7.0+cu101:\n",
            "      Successfully uninstalled torchvision-0.7.0+cu101\n",
            "Successfully installed torch-1.4.0+cu100 torchvision-0.5.0+cu100\n",
            "Collecting opencv-python==4.2.0.32\n",
            "\u001b[?25l  Downloading https://files.pythonhosted.org/packages/68/c5/09a1b82f940805c2cee30c3c42786651edcfd0710a0283eb09c6bc959340/opencv_python-4.2.0.32-cp36-cp36m-manylinux1_x86_64.whl (28.2MB)\n",
            "\u001b[K     |████████████████████████████████| 28.2MB 109kB/s \n",
            "\u001b[?25hRequirement already satisfied: numpy>=1.11.3 in /usr/local/lib/python3.6/dist-packages (from opencv-python==4.2.0.32) (1.18.5)\n",
            "\u001b[31mERROR: albumentations 0.1.12 has requirement imgaug<0.2.7,>=0.2.5, but you'll have imgaug 0.2.9 which is incompatible.\u001b[0m\n",
            "Installing collected packages: opencv-python\n",
            "  Found existing installation: opencv-python 4.1.2.30\n",
            "    Uninstalling opencv-python-4.1.2.30:\n",
            "      Successfully uninstalled opencv-python-4.1.2.30\n",
            "Successfully installed opencv-python-4.2.0.32\n",
            "Collecting vispy==0.6.4\n",
            "\u001b[?25l  Downloading https://files.pythonhosted.org/packages/cf/29/899797a9af4446d3ddf594f49b0fbd43076eafa1552e24690cfd99b0e2ff/vispy-0.6.4-cp36-cp36m-manylinux2010_x86_64.whl (2.3MB)\n",
            "\u001b[K     |████████████████████████████████| 2.3MB 8.5MB/s \n",
            "\u001b[?25hRequirement already satisfied: numpy in /usr/local/lib/python3.6/dist-packages (from vispy==0.6.4) (1.18.5)\n",
            "Collecting freetype-py\n",
            "\u001b[?25l  Downloading https://files.pythonhosted.org/packages/40/b5/56751e13f8b4a42f52c1b85ecce1446f83245190d820b42748eb8574ae43/freetype_py-2.2.0-py3-none-manylinux1_x86_64.whl (890kB)\n",
            "\u001b[K     |████████████████████████████████| 890kB 43.4MB/s \n",
            "\u001b[?25hInstalling collected packages: freetype-py, vispy\n",
            "Successfully installed freetype-py-2.2.0 vispy-0.6.4\n",
            "Collecting moviepy==1.0.2\n",
            "\u001b[?25l  Downloading https://files.pythonhosted.org/packages/71/64/e7f0876716d5c35612bf8e9e49299d0f491285f10f36cbb481556ab0062b/moviepy-1.0.2.tar.gz (7.8MB)\n",
            "\u001b[K     |████████████████████████████████| 7.9MB 7.1MB/s \n",
            "\u001b[?25hRequirement already satisfied: decorator<5.0,>=4.0.2 in /usr/local/lib/python3.6/dist-packages (from moviepy==1.0.2) (4.4.2)\n",
            "Requirement already satisfied: tqdm<5.0,>=4.11.2 in /usr/local/lib/python3.6/dist-packages (from moviepy==1.0.2) (4.41.1)\n",
            "Requirement already satisfied: requests<3.0,>=2.8.1 in /usr/local/lib/python3.6/dist-packages (from moviepy==1.0.2) (2.23.0)\n",
            "Collecting proglog<=1.0.0\n",
            "  Downloading https://files.pythonhosted.org/packages/fe/ab/4cb19b578e1364c0b2d6efd6521a8b4b4e5c4ae6528041d31a2a951dd991/proglog-0.1.9.tar.gz\n",
            "Requirement already satisfied: numpy>=1.17.3 in /usr/local/lib/python3.6/dist-packages (from moviepy==1.0.2) (1.18.5)\n",
            "Collecting imageio<3.0,>=2.5\n",
            "\u001b[?25l  Downloading https://files.pythonhosted.org/packages/6e/57/5d899fae74c1752f52869b613a8210a2480e1a69688e65df6cb26117d45d/imageio-2.9.0-py3-none-any.whl (3.3MB)\n",
            "\u001b[K     |████████████████████████████████| 3.3MB 45.5MB/s \n",
            "\u001b[?25hCollecting imageio_ffmpeg>=0.2.0\n",
            "\u001b[?25l  Downloading https://files.pythonhosted.org/packages/df/c8/04c6b4a001b8ae7326fb83d6665af1ee58d6cc1acb421f8ea40d2678fe3c/imageio_ffmpeg-0.4.2-py3-none-manylinux2010_x86_64.whl (26.9MB)\n",
            "\u001b[K     |████████████████████████████████| 26.9MB 112kB/s \n",
            "\u001b[?25hRequirement already satisfied: urllib3!=1.25.0,!=1.25.1,<1.26,>=1.21.1 in /usr/local/lib/python3.6/dist-packages (from requests<3.0,>=2.8.1->moviepy==1.0.2) (1.24.3)\n",
            "Requirement already satisfied: chardet<4,>=3.0.2 in /usr/local/lib/python3.6/dist-packages (from requests<3.0,>=2.8.1->moviepy==1.0.2) (3.0.4)\n",
            "Requirement already satisfied: certifi>=2017.4.17 in /usr/local/lib/python3.6/dist-packages (from requests<3.0,>=2.8.1->moviepy==1.0.2) (2020.6.20)\n",
            "Requirement already satisfied: idna<3,>=2.5 in /usr/local/lib/python3.6/dist-packages (from requests<3.0,>=2.8.1->moviepy==1.0.2) (2.10)\n",
            "Requirement already satisfied: pillow in /usr/local/lib/python3.6/dist-packages (from imageio<3.0,>=2.5->moviepy==1.0.2) (7.0.0)\n",
            "Building wheels for collected packages: moviepy, proglog\n",
            "  Building wheel for moviepy (setup.py) ... \u001b[?25l\u001b[?25hdone\n",
            "  Created wheel for moviepy: filename=moviepy-1.0.2-cp36-none-any.whl size=110731 sha256=3a5d51cdcfca4588892a134736bbec99fd622cd6a14826fe8ab39d0d44ba6172\n",
            "  Stored in directory: /root/.cache/pip/wheels/20/49/a9/770a9a22e7a020d796ab3784d2dc4839e38450a1ac87e6106f\n",
            "  Building wheel for proglog (setup.py) ... \u001b[?25l\u001b[?25hdone\n",
            "  Created wheel for proglog: filename=proglog-0.1.9-cp36-none-any.whl size=6149 sha256=0cfa620429bb6fa78170550a83e122562303fa5c3b3f28f1a33156782b8ef39c\n",
            "  Stored in directory: /root/.cache/pip/wheels/65/56/60/1d0306a8d90b188af393c1812ddb502a8821b70917f82dcc00\n",
            "Successfully built moviepy proglog\n",
            "\u001b[31mERROR: albumentations 0.1.12 has requirement imgaug<0.2.7,>=0.2.5, but you'll have imgaug 0.2.9 which is incompatible.\u001b[0m\n",
            "Installing collected packages: proglog, imageio, imageio-ffmpeg, moviepy\n",
            "  Found existing installation: imageio 2.4.1\n",
            "    Uninstalling imageio-2.4.1:\n",
            "      Successfully uninstalled imageio-2.4.1\n",
            "  Found existing installation: moviepy 0.2.3.5\n",
            "    Uninstalling moviepy-0.2.3.5:\n",
            "      Successfully uninstalled moviepy-0.2.3.5\n",
            "Successfully installed imageio-2.9.0 imageio-ffmpeg-0.4.2 moviepy-1.0.2 proglog-0.1.9\n",
            "Collecting transforms3d==0.3.1\n",
            "\u001b[?25l  Downloading https://files.pythonhosted.org/packages/b5/f7/e85809168a548a854d7c1331560c27b4f5381698d29c12e57759192b2bc1/transforms3d-0.3.1.tar.gz (62kB)\n",
            "\u001b[K     |████████████████████████████████| 71kB 5.7MB/s \n",
            "\u001b[?25hBuilding wheels for collected packages: transforms3d\n",
            "  Building wheel for transforms3d (setup.py) ... \u001b[?25l\u001b[?25hdone\n",
            "  Created wheel for transforms3d: filename=transforms3d-0.3.1-cp36-none-any.whl size=59374 sha256=b15e062eb3980f344062db8357c12fbecefb61f18f915d8400403d9c7526334d\n",
            "  Stored in directory: /root/.cache/pip/wheels/3d/3c/84/28d36677f3c760c048bd02b5a547ea0c4027770cc9cdb9af1e\n",
            "Successfully built transforms3d\n",
            "Installing collected packages: transforms3d\n",
            "Successfully installed transforms3d-0.3.1\n",
            "Collecting networkx==2.3\n",
            "\u001b[?25l  Downloading https://files.pythonhosted.org/packages/85/08/f20aef11d4c343b557e5de6b9548761811eb16e438cee3d32b1c66c8566b/networkx-2.3.zip (1.7MB)\n",
            "\u001b[K     |████████████████████████████████| 1.8MB 9.2MB/s \n",
            "\u001b[?25hRequirement already satisfied: decorator>=4.3.0 in /usr/local/lib/python3.6/dist-packages (from networkx==2.3) (4.4.2)\n",
            "Building wheels for collected packages: networkx\n",
            "  Building wheel for networkx (setup.py) ... \u001b[?25l\u001b[?25hdone\n",
            "  Created wheel for networkx: filename=networkx-2.3-py2.py3-none-any.whl size=1556409 sha256=07b9461f23989e590e7df97750981b6e4d5b7324e6ee9a73ef006afad3fc284f\n",
            "  Stored in directory: /root/.cache/pip/wheels/de/63/64/3699be2a9d0ccdb37c7f16329acf3863fd76eda58c39c737af\n",
            "Successfully built networkx\n",
            "\u001b[31mERROR: albumentations 0.1.12 has requirement imgaug<0.2.7,>=0.2.5, but you'll have imgaug 0.2.9 which is incompatible.\u001b[0m\n",
            "Installing collected packages: networkx\n",
            "  Found existing installation: networkx 2.5\n",
            "    Uninstalling networkx-2.5:\n",
            "      Successfully uninstalled networkx-2.5\n",
            "Successfully installed networkx-2.3\n",
            "Reading package lists... Done\n",
            "Building dependency tree       \n",
            "Reading state information... Done\n",
            "sed is already the newest version (4.4-2).\n",
            "0 upgraded, 0 newly installed, 0 to remove and 6 not upgraded.\n"
          ],
          "name": "stdout"
        }
      ]
    },
    {
      "cell_type": "markdown",
      "metadata": {
        "id": "c-g7AeLMvY0R"
      },
      "source": [
        "- **Download script and pretrained model**\n"
      ]
    },
    {
      "cell_type": "code",
      "metadata": {
        "id": "cOFIBkWrBlNM",
        "outputId": "8b08d461-e047-4201-fe19-1c280ac7924b",
        "colab": {
          "base_uri": "https://localhost:8080/",
          "height": 901
        }
      },
      "source": [
        "%cd /content/\n",
        "!git clone https://github.com/vt-vl-lab/3d-photo-inpainting.git\n",
        "%cd 3d-photo-inpainting\n",
        "!sh download.sh"
      ],
      "execution_count": 2,
      "outputs": [
        {
          "output_type": "stream",
          "text": [
            "/content\n",
            "Cloning into '3d-photo-inpainting'...\n",
            "remote: Enumerating objects: 350, done.\u001b[K\n",
            "remote: Total 350 (delta 0), reused 0 (delta 0), pack-reused 350\u001b[K\n",
            "Receiving objects: 100% (350/350), 130.13 MiB | 23.15 MiB/s, done.\n",
            "Resolving deltas: 100% (192/192), done.\n",
            "/content/3d-photo-inpainting\n",
            "downloading from filebox ...\n",
            "--2020-10-11 04:25:08--  https://filebox.ece.vt.edu/~jbhuang/project/3DPhoto/model/color-model.pth\n",
            "Resolving filebox.ece.vt.edu (filebox.ece.vt.edu)... 128.173.88.43\n",
            "Connecting to filebox.ece.vt.edu (filebox.ece.vt.edu)|128.173.88.43|:443... connected.\n",
            "HTTP request sent, awaiting response... 200 OK\n",
            "Length: 206331633 (197M)\n",
            "Saving to: ‘color-model.pth’\n",
            "\n",
            "color-model.pth     100%[===================>] 196.77M  12.7MB/s    in 14s     \n",
            "\n",
            "2020-10-11 04:25:22 (14.4 MB/s) - ‘color-model.pth’ saved [206331633/206331633]\n",
            "\n",
            "--2020-10-11 04:25:22--  https://filebox.ece.vt.edu/~jbhuang/project/3DPhoto/model/depth-model.pth\n",
            "Resolving filebox.ece.vt.edu (filebox.ece.vt.edu)... 128.173.88.43\n",
            "Connecting to filebox.ece.vt.edu (filebox.ece.vt.edu)|128.173.88.43|:443... connected.\n",
            "HTTP request sent, awaiting response... 200 OK\n",
            "Length: 206272258 (197M)\n",
            "Saving to: ‘depth-model.pth’\n",
            "\n",
            "depth-model.pth     100%[===================>] 196.72M  28.9MB/s    in 8.6s    \n",
            "\n",
            "2020-10-11 04:25:31 (22.8 MB/s) - ‘depth-model.pth’ saved [206272258/206272258]\n",
            "\n",
            "--2020-10-11 04:25:31--  https://filebox.ece.vt.edu/~jbhuang/project/3DPhoto/model/edge-model.pth\n",
            "Resolving filebox.ece.vt.edu (filebox.ece.vt.edu)... 128.173.88.43\n",
            "Connecting to filebox.ece.vt.edu (filebox.ece.vt.edu)|128.173.88.43|:443... connected.\n",
            "HTTP request sent, awaiting response... 200 OK\n",
            "Length: 45974122 (44M)\n",
            "Saving to: ‘edge-model.pth’\n",
            "\n",
            "edge-model.pth      100%[===================>]  43.84M  11.7MB/s    in 4.6s    \n",
            "\n",
            "2020-10-11 04:25:36 (9.53 MB/s) - ‘edge-model.pth’ saved [45974122/45974122]\n",
            "\n",
            "--2020-10-11 04:25:36--  https://filebox.ece.vt.edu/~jbhuang/project/3DPhoto/model/model.pt\n",
            "Resolving filebox.ece.vt.edu (filebox.ece.vt.edu)... 128.173.88.43\n",
            "Connecting to filebox.ece.vt.edu (filebox.ece.vt.edu)|128.173.88.43|:443... connected.\n",
            "HTTP request sent, awaiting response... 200 OK\n",
            "Length: 149751722 (143M)\n",
            "Saving to: ‘model.pt’\n",
            "\n",
            "model.pt            100%[===================>] 142.81M  18.2MB/s    in 10s     \n",
            "\n",
            "2020-10-11 04:25:47 (14.2 MB/s) - ‘model.pt’ saved [149751722/149751722]\n",
            "\n"
          ],
          "name": "stdout"
        }
      ]
    },
    {
      "cell_type": "markdown",
      "metadata": {
        "id": "D_Fg_aMeDnmd"
      },
      "source": [
        "- **Switch off off-screen rendering**"
      ]
    },
    {
      "cell_type": "code",
      "metadata": {
        "id": "S9TmdOBRDXcV"
      },
      "source": [
        "!sed -i 's/offscreen_rendering: True/offscreen_rendering: False/g' argument.yml"
      ],
      "execution_count": 3,
      "outputs": []
    },
    {
      "cell_type": "markdown",
      "metadata": {
        "id": "cCN8L7GiDpZA"
      },
      "source": [
        "- **Please upload `.jpg` files to `/content/3d-photo-inpainting-master/image/`**\n",
        "  - You can run this step multiple times to upload multiple `.jpg` files."
      ]
    },
    {
      "cell_type": "code",
      "metadata": {
        "id": "n-Kl6fo1oows",
        "outputId": "72d6e978-1086-4bbb-b8ca-9ef40ff3ff5a",
        "colab": {
          "resources": {
            "http://localhost:8080/nbextensions/google.colab/files.js": {
              "data": "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",
              "ok": true,
              "headers": [
                [
                  "content-type",
                  "application/javascript"
                ]
              ],
              "status": 200,
              "status_text": ""
            }
          },
          "base_uri": "https://localhost:8080/",
          "height": 123
        }
      },
      "source": [
        "%cd image\n",
        "from google.colab import files\n",
        "uploaded = files.upload()\n",
        "for fn in uploaded.keys():\n",
        "  print('User uploaded file \"{name}\" with length {length} bytes'.format(\n",
        "      name=fn, length=len(uploaded[fn])))\n",
        "%cd .."
      ],
      "execution_count": 6,
      "outputs": [
        {
          "output_type": "stream",
          "text": [
            "/content/3d-photo-inpainting/image\n"
          ],
          "name": "stdout"
        },
        {
          "output_type": "display_data",
          "data": {
            "text/html": [
              "\n",
              "     <input type=\"file\" id=\"files-e8a00473-8602-4c79-997e-480c829576bf\" name=\"files[]\" multiple disabled\n",
              "        style=\"border:none\" />\n",
              "     <output id=\"result-e8a00473-8602-4c79-997e-480c829576bf\">\n",
              "      Upload widget is only available when the cell has been executed in the\n",
              "      current browser session. Please rerun this cell to enable.\n",
              "      </output>\n",
              "      <script src=\"/nbextensions/google.colab/files.js\"></script> "
            ],
            "text/plain": [
              "<IPython.core.display.HTML object>"
            ]
          },
          "metadata": {
            "tags": []
          }
        },
        {
          "output_type": "stream",
          "text": [
            "Saving photo_2020-06-22_18-58-17.jpg to photo_2020-06-22_18-58-17.jpg\n",
            "User uploaded file \"photo_2020-06-22_18-58-17.jpg\" with length 172267 bytes\n",
            "/content/3d-photo-inpainting\n"
          ],
          "name": "stdout"
        }
      ]
    },
    {
      "cell_type": "markdown",
      "metadata": {
        "id": "wyLFopwVDzUg"
      },
      "source": [
        "- **Execute the 3D Photo Inpainting**\n",
        "  - Note: The 3D photo generation process usually takes about 2-3 minutes or more depending on the available computing resources."
      ]
    },
    {
      "cell_type": "code",
      "metadata": {
        "id": "i5-MWEjfBjYx",
        "outputId": "10443f62-bae5-4a59-82e2-4af9d7066b07",
        "colab": {
          "base_uri": "https://localhost:8080/",
          "height": 1000
        }
      },
      "source": [
        "!python main.py --config argument.yml"
      ],
      "execution_count": 7,
      "outputs": [
        {
          "output_type": "stream",
          "text": [
            "running on device 0\n",
            "\r  0% 0/4 [00:00<?, ?it/s]Current Source ==>  photo_2020-06-22_18-58-17\n",
            "Running depth extraction at 1602391950.4859858\n",
            "initialize\n",
            "device: cpu\n",
            "start processing\n",
            "  processing image/photo_2020-06-22_18-58-17.jpg (1/1)\n",
            "torch.Size([1, 3, 384, 384])\n",
            "finished\n",
            "Start Running 3D_Photo ...\n",
            "Loading edge model at 1602391975.9558249\n",
            "Loading depth model at 1602391986.7530217\n",
            "Loading rgb model at 1602391993.0995245\n",
            "Writing depth ply (and basically doing everything) at 1602391999.3926957\n",
            "Writing mesh file mesh/photo_2020-06-22_18-58-17.ply ...\n",
            "Making video at 1602392227.1756325\n",
            "fov: 53.13010235415598\n",
            "Moviepy - Building video video/photo_2020-06-22_18-58-17_dolly-zoom-in.mp4.\n",
            "Moviepy - Writing video video/photo_2020-06-22_18-58-17_dolly-zoom-in.mp4\n",
            "\n",
            "  0% 0/4 [05:18<?, ?it/s]\n",
            "t:   0% 0/241 [00:00<?, ?it/s, now=None]\u001b[A\n",
            "t:   1% 2/241 [00:00<00:40,  5.91it/s, now=None]\u001b[A\n",
            "t:   1% 3/241 [00:00<00:36,  6.46it/s, now=None]\u001b[A\n",
            "t:   5% 13/241 [00:00<00:25,  8.97it/s, now=None]\u001b[A\n",
            "t:  10% 24/241 [00:00<00:17, 12.37it/s, now=None]\u001b[A\n",
            "t:  15% 36/241 [00:00<00:12, 16.87it/s, now=None]\u001b[A\n",
            "t:  19% 46/241 [00:00<00:08, 22.40it/s, now=None]\u001b[A\n",
            "t:  22% 54/241 [00:01<00:08, 22.41it/s, now=None]\u001b[A\n",
            "t:  25% 61/241 [00:01<00:07, 23.68it/s, now=None]\u001b[A\n",
            "t:  28% 67/241 [00:01<00:07, 23.62it/s, now=None]\u001b[A\n",
            "t:  30% 72/241 [00:01<00:06, 24.98it/s, now=None]\u001b[A\n",
            "t:  32% 76/241 [00:02<00:06, 24.48it/s, now=None]\u001b[A\n",
            "t:  33% 80/241 [00:02<00:06, 25.01it/s, now=None]\u001b[A\n",
            "t:  35% 84/241 [00:02<00:06, 26.04it/s, now=None]\u001b[A\n",
            "t:  37% 88/241 [00:02<00:06, 25.49it/s, now=None]\u001b[A\n",
            "t:  38% 91/241 [00:02<00:05, 26.32it/s, now=None]\u001b[A\n",
            "t:  39% 95/241 [00:02<00:05, 26.32it/s, now=None]\u001b[A\n",
            "t:  41% 99/241 [00:02<00:05, 26.01it/s, now=None]\u001b[A\n",
            "t:  43% 103/241 [00:03<00:05, 25.34it/s, now=None]\u001b[A\n",
            "t:  44% 107/241 [00:03<00:05, 25.69it/s, now=None]\u001b[A\n",
            "t:  46% 111/241 [00:03<00:04, 26.29it/s, now=None]\u001b[A\n",
            "t:  48% 115/241 [00:03<00:04, 25.30it/s, now=None]\u001b[A\n",
            "t:  49% 119/241 [00:03<00:04, 25.56it/s, now=None]\u001b[A\n",
            "t:  51% 123/241 [00:03<00:04, 26.04it/s, now=None]\u001b[A\n",
            "t:  53% 127/241 [00:04<00:04, 26.07it/s, now=None]\u001b[A\n",
            "t:  54% 131/241 [00:04<00:04, 26.08it/s, now=None]\u001b[A\n",
            "t:  56% 134/241 [00:04<00:03, 26.92it/s, now=None]\u001b[A\n",
            "t:  57% 137/241 [00:04<00:03, 27.05it/s, now=None]\u001b[A\n",
            "t:  58% 140/241 [00:04<00:03, 26.17it/s, now=None]\u001b[A\n",
            "t:  59% 143/241 [00:04<00:03, 25.32it/s, now=None]\u001b[A\n",
            "t:  61% 147/241 [00:04<00:03, 25.48it/s, now=None]\u001b[A\n",
            "t:  63% 151/241 [00:04<00:03, 25.73it/s, now=None]\u001b[A\n",
            "t:  64% 155/241 [00:05<00:03, 25.50it/s, now=None]\u001b[A\n",
            "t:  66% 158/241 [00:05<00:03, 26.41it/s, now=None]\u001b[A\n",
            "t:  67% 162/241 [00:05<00:03, 25.89it/s, now=None]\u001b[A\n",
            "t:  69% 166/241 [00:05<00:02, 27.44it/s, now=None]\u001b[A\n",
            "t:  70% 169/241 [00:05<00:02, 26.53it/s, now=None]\u001b[A\n",
            "t:  71% 172/241 [00:05<00:02, 25.59it/s, now=None]\u001b[A\n",
            "t:  73% 175/241 [00:05<00:02, 24.94it/s, now=None]\u001b[A\n",
            "t:  74% 178/241 [00:06<00:02, 25.70it/s, now=None]\u001b[A\n",
            "t:  76% 182/241 [00:06<00:02, 27.00it/s, now=None]\u001b[A\n",
            "t:  77% 185/241 [00:06<00:02, 24.99it/s, now=None]\u001b[A\n",
            "t:  78% 188/241 [00:06<00:02, 25.28it/s, now=None]\u001b[A\n",
            "t:  79% 191/241 [00:06<00:02, 24.49it/s, now=None]\u001b[A\n",
            "t:  81% 195/241 [00:06<00:01, 24.72it/s, now=None]\u001b[A\n",
            "t:  83% 199/241 [00:06<00:01, 25.08it/s, now=None]\u001b[A\n",
            "t:  84% 203/241 [00:06<00:01, 25.19it/s, now=None]\u001b[A\n",
            "t:  86% 207/241 [00:07<00:01, 25.55it/s, now=None]\u001b[A\n",
            "t:  87% 210/241 [00:07<00:01, 25.90it/s, now=None]\u001b[A\n",
            "t:  88% 213/241 [00:07<00:01, 25.65it/s, now=None]\u001b[A\n",
            "t:  90% 216/241 [00:07<00:00, 25.35it/s, now=None]\u001b[A\n",
            "t:  91% 219/241 [00:07<00:00, 25.24it/s, now=None]\u001b[A\n",
            "t:  92% 222/241 [00:07<00:00, 25.84it/s, now=None]\u001b[A\n",
            "t:  93% 225/241 [00:07<00:00, 26.54it/s, now=None]\u001b[A\n",
            "t:  95% 228/241 [00:07<00:00, 24.94it/s, now=None]\u001b[A\n",
            "t:  96% 231/241 [00:08<00:00, 24.95it/s, now=None]\u001b[A\n",
            "t:  97% 234/241 [00:08<00:00, 26.06it/s, now=None]\u001b[A\n",
            "t:  98% 237/241 [00:08<00:00, 23.77it/s, now=None]\u001b[A\n",
            "t: 100% 240/241 [00:08<00:00, 24.26it/s, now=None]\u001b[A\n",
            "Moviepy - Done !\n",
            "Moviepy - video ready video/photo_2020-06-22_18-58-17_dolly-zoom-in.mp4\n",
            "Moviepy - Building video video/photo_2020-06-22_18-58-17_zoom-in.mp4.\n",
            "Moviepy - Writing video video/photo_2020-06-22_18-58-17_zoom-in.mp4\n",
            "\n",
            "  0% 0/4 [06:06<?, ?it/s]\n",
            "t:   0% 0/241 [00:00<?, ?it/s, now=None]\u001b[A\n",
            "t:   5% 13/241 [00:00<00:01, 122.49it/s, now=None]\u001b[A\n",
            "t:  10% 25/241 [00:00<00:01, 119.14it/s, now=None]\u001b[A\n",
            "t:  15% 37/241 [00:00<00:01, 117.55it/s, now=None]\u001b[A\n",
            "t:  19% 46/241 [00:00<00:01, 104.19it/s, now=None]\u001b[A\n",
            "t:  22% 54/241 [00:00<00:04, 43.17it/s, now=None] \u001b[A\n",
            "t:  25% 60/241 [00:01<00:05, 33.38it/s, now=None]\u001b[A\n",
            "t:  27% 65/241 [00:01<00:05, 30.02it/s, now=None]\u001b[A\n",
            "t:  29% 70/241 [00:01<00:06, 27.56it/s, now=None]\u001b[A\n",
            "t:  31% 74/241 [00:01<00:07, 23.49it/s, now=None]\u001b[A\n",
            "t:  32% 78/241 [00:01<00:06, 25.57it/s, now=None]\u001b[A\n",
            "t:  34% 82/241 [00:02<00:06, 25.14it/s, now=None]\u001b[A\n",
            "t:  35% 85/241 [00:02<00:06, 22.72it/s, now=None]\u001b[A\n",
            "t:  37% 88/241 [00:02<00:06, 23.60it/s, now=None]\u001b[A\n",
            "t:  38% 91/241 [00:02<00:06, 22.98it/s, now=None]\u001b[A\n",
            "t:  39% 94/241 [00:02<00:06, 23.33it/s, now=None]\u001b[A\n",
            "t:  40% 97/241 [00:02<00:06, 22.97it/s, now=None]\u001b[A\n",
            "t:  41% 100/241 [00:02<00:05, 23.69it/s, now=None]\u001b[A\n",
            "t:  43% 103/241 [00:03<00:05, 23.01it/s, now=None]\u001b[A\n",
            "t:  44% 107/241 [00:03<00:05, 23.14it/s, now=None]\u001b[A\n",
            "t:  46% 111/241 [00:03<00:05, 23.12it/s, now=None]\u001b[A\n",
            "t:  48% 115/241 [00:03<00:05, 23.25it/s, now=None]\u001b[A\n",
            "t:  49% 118/241 [00:03<00:05, 24.05it/s, now=None]\u001b[A\n",
            "t:  50% 121/241 [00:03<00:04, 24.62it/s, now=None]\u001b[A\n",
            "t:  51% 124/241 [00:03<00:05, 22.71it/s, now=None]\u001b[A\n",
            "t:  53% 127/241 [00:04<00:05, 22.72it/s, now=None]\u001b[A\n",
            "t:  54% 130/241 [00:04<00:04, 23.95it/s, now=None]\u001b[A\n",
            "t:  55% 133/241 [00:04<00:04, 24.07it/s, now=None]\u001b[A\n",
            "t:  56% 136/241 [00:04<00:04, 23.43it/s, now=None]\u001b[A\n",
            "t:  58% 139/241 [00:04<00:04, 23.76it/s, now=None]\u001b[A\n",
            "t:  59% 142/241 [00:04<00:04, 24.28it/s, now=None]\u001b[A\n",
            "t:  60% 145/241 [00:04<00:04, 23.66it/s, now=None]\u001b[A\n",
            "t:  61% 148/241 [00:04<00:04, 22.49it/s, now=None]\u001b[A\n",
            "t:  63% 151/241 [00:05<00:04, 22.23it/s, now=None]\u001b[A\n",
            "t:  64% 155/241 [00:05<00:03, 22.58it/s, now=None]\u001b[A\n",
            "t:  66% 159/241 [00:05<00:03, 22.62it/s, now=None]\u001b[A\n",
            "t:  68% 163/241 [00:05<00:03, 22.90it/s, now=None]\u001b[A\n",
            "t:  69% 166/241 [00:05<00:03, 24.56it/s, now=None]\u001b[A\n",
            "t:  70% 169/241 [00:05<00:03, 23.20it/s, now=None]\u001b[A\n",
            "t:  71% 172/241 [00:05<00:03, 22.99it/s, now=None]\u001b[A\n",
            "t:  73% 175/241 [00:06<00:02, 23.07it/s, now=None]\u001b[A\n",
            "t:  74% 178/241 [00:06<00:02, 24.26it/s, now=None]\u001b[A\n",
            "t:  75% 181/241 [00:06<00:02, 23.64it/s, now=None]\u001b[A\n",
            "t:  76% 184/241 [00:06<00:02, 23.13it/s, now=None]\u001b[A\n",
            "t:  78% 187/241 [00:06<00:02, 22.30it/s, now=None]\u001b[A\n",
            "t:  79% 190/241 [00:06<00:02, 22.79it/s, now=None]\u001b[A\n",
            "t:  80% 193/241 [00:06<00:02, 23.68it/s, now=None]\u001b[A\n",
            "t:  81% 196/241 [00:07<00:02, 22.34it/s, now=None]\u001b[A\n",
            "t:  83% 199/241 [00:07<00:01, 22.24it/s, now=None]\u001b[A\n",
            "t:  84% 203/241 [00:07<00:01, 22.44it/s, now=None]\u001b[A\n",
            "t:  85% 206/241 [00:07<00:01, 22.68it/s, now=None]\u001b[A\n",
            "t:  87% 210/241 [00:07<00:01, 23.74it/s, now=None]\u001b[A\n",
            "t:  88% 213/241 [00:07<00:01, 22.97it/s, now=None]\u001b[A\n",
            "t:  90% 216/241 [00:07<00:01, 22.41it/s, now=None]\u001b[A\n",
            "t:  91% 219/241 [00:08<00:00, 22.50it/s, now=None]\u001b[A\n",
            "t:  92% 222/241 [00:08<00:00, 23.78it/s, now=None]\u001b[A\n",
            "t:  93% 225/241 [00:08<00:00, 24.04it/s, now=None]\u001b[A\n",
            "t:  95% 228/241 [00:08<00:00, 23.42it/s, now=None]\u001b[A\n",
            "t:  96% 231/241 [00:08<00:00, 23.49it/s, now=None]\u001b[A\n",
            "t:  97% 234/241 [00:08<00:00, 24.64it/s, now=None]\u001b[A\n",
            "t:  98% 237/241 [00:08<00:00, 22.72it/s, now=None]\u001b[A\n",
            "t: 100% 240/241 [00:08<00:00, 22.54it/s, now=None]\u001b[A\n",
            "Moviepy - Done !\n",
            "Moviepy - video ready video/photo_2020-06-22_18-58-17_zoom-in.mp4\n",
            "Moviepy - Building video video/photo_2020-06-22_18-58-17_circle.mp4.\n",
            "Moviepy - Writing video video/photo_2020-06-22_18-58-17_circle.mp4\n",
            "\n",
            "  0% 0/4 [06:54<?, ?it/s]\n",
            "t:   0% 0/241 [00:00<?, ?it/s, now=None]\u001b[A\n",
            "t:   4% 10/241 [00:00<00:02, 99.31it/s, now=None]\u001b[A\n",
            "t:   9% 21/241 [00:00<00:02, 101.75it/s, now=None]\u001b[A\n",
            "t:  14% 33/241 [00:00<00:01, 105.54it/s, now=None]\u001b[A\n",
            "t:  17% 42/241 [00:00<00:01, 99.52it/s, now=None] \u001b[A\n",
            "t:  21% 50/241 [00:00<00:04, 43.52it/s, now=None]\u001b[A\n",
            "t:  23% 56/241 [00:01<00:05, 33.99it/s, now=None]\u001b[A\n",
            "t:  25% 61/241 [00:01<00:06, 29.36it/s, now=None]\u001b[A\n",
            "t:  27% 66/241 [00:01<00:06, 27.93it/s, now=None]\u001b[A\n",
            "t:  29% 70/241 [00:01<00:06, 25.79it/s, now=None]\u001b[A\n",
            "t:  31% 74/241 [00:01<00:07, 23.83it/s, now=None]\u001b[A\n",
            "t:  32% 77/241 [00:02<00:07, 21.59it/s, now=None]\u001b[A\n",
            "t:  33% 80/241 [00:02<00:08, 20.00it/s, now=None]\u001b[A\n",
            "t:  34% 83/241 [00:02<00:08, 19.70it/s, now=None]\u001b[A\n",
            "t:  36% 86/241 [00:02<00:07, 20.42it/s, now=None]\u001b[A\n",
            "t:  37% 89/241 [00:02<00:06, 21.91it/s, now=None]\u001b[A\n",
            "t:  38% 92/241 [00:02<00:07, 19.65it/s, now=None]\u001b[A\n",
            "t:  39% 95/241 [00:02<00:07, 19.98it/s, now=None]\u001b[A\n",
            "t:  41% 99/241 [00:03<00:07, 20.03it/s, now=None]\u001b[A\n",
            "t:  42% 102/241 [00:03<00:06, 22.03it/s, now=None]\u001b[A\n",
            "t:  44% 105/241 [00:03<00:06, 20.93it/s, now=None]\u001b[A\n",
            "t:  45% 108/241 [00:03<00:06, 19.52it/s, now=None]\u001b[A\n",
            "t:  46% 111/241 [00:03<00:06, 19.62it/s, now=None]\u001b[A\n",
            "t:  47% 114/241 [00:03<00:06, 20.05it/s, now=None]\u001b[A\n",
            "t:  49% 117/241 [00:04<00:06, 20.24it/s, now=None]\u001b[A\n",
            "t:  50% 120/241 [00:04<00:05, 20.38it/s, now=None]\u001b[A\n",
            "t:  51% 123/241 [00:04<00:05, 19.85it/s, now=None]\u001b[A\n",
            "t:  52% 126/241 [00:04<00:05, 20.34it/s, now=None]\u001b[A\n",
            "t:  54% 129/241 [00:04<00:05, 19.84it/s, now=None]\u001b[A\n",
            "t:  55% 132/241 [00:04<00:05, 19.81it/s, now=None]\u001b[A\n",
            "t:  56% 135/241 [00:04<00:05, 19.98it/s, now=None]\u001b[A\n",
            "t:  58% 139/241 [00:05<00:05, 19.69it/s, now=None]\u001b[A\n",
            "t:  59% 142/241 [00:05<00:04, 21.75it/s, now=None]\u001b[A\n",
            "t:  60% 145/241 [00:05<00:04, 21.95it/s, now=None]\u001b[A\n",
            "t:  61% 148/241 [00:05<00:04, 20.23it/s, now=None]\u001b[A\n",
            "t:  63% 151/241 [00:05<00:04, 19.86it/s, now=None]\u001b[A\n",
            "t:  64% 155/241 [00:05<00:04, 20.27it/s, now=None]\u001b[A\n",
            "t:  66% 158/241 [00:06<00:03, 22.37it/s, now=None]\u001b[A\n",
            "t:  67% 161/241 [00:06<00:03, 20.17it/s, now=None]\u001b[A\n",
            "t:  68% 164/241 [00:06<00:03, 20.22it/s, now=None]\u001b[A\n",
            "t:  69% 167/241 [00:06<00:03, 21.64it/s, now=None]\u001b[A\n",
            "t:  71% 170/241 [00:06<00:03, 20.73it/s, now=None]\u001b[A\n",
            "t:  72% 173/241 [00:06<00:03, 19.30it/s, now=None]\u001b[A\n",
            "t:  73% 176/241 [00:06<00:03, 21.37it/s, now=None]\u001b[A\n",
            "t:  74% 179/241 [00:07<00:02, 21.63it/s, now=None]\u001b[A\n",
            "t:  76% 182/241 [00:07<00:02, 23.14it/s, now=None]\u001b[A\n",
            "t:  77% 185/241 [00:07<00:02, 21.82it/s, now=None]\u001b[A\n",
            "t:  78% 188/241 [00:07<00:02, 20.61it/s, now=None]\u001b[A\n",
            "t:  79% 191/241 [00:07<00:02, 20.75it/s, now=None]\u001b[A\n",
            "t:  80% 194/241 [00:07<00:02, 19.93it/s, now=None]\u001b[A\n",
            "t:  82% 197/241 [00:07<00:02, 19.80it/s, now=None]\u001b[A\n",
            "t:  83% 200/241 [00:08<00:02, 18.68it/s, now=None]\u001b[A\n",
            "t:  84% 203/241 [00:08<00:02, 18.65it/s, now=None]\u001b[A\n",
            "t:  85% 206/241 [00:08<00:01, 19.80it/s, now=None]\u001b[A\n",
            "t:  87% 209/241 [00:08<00:01, 19.97it/s, now=None]\u001b[A\n",
            "t:  88% 212/241 [00:08<00:01, 19.20it/s, now=None]\u001b[A\n",
            "t:  89% 215/241 [00:08<00:01, 18.99it/s, now=None]\u001b[A\n",
            "t:  91% 219/241 [00:09<00:01, 19.29it/s, now=None]\u001b[A\n",
            "t:  93% 223/241 [00:09<00:00, 19.14it/s, now=None]\u001b[A\n",
            "t:  94% 227/241 [00:09<00:00, 19.84it/s, now=None]\u001b[A\n",
            "t:  95% 230/241 [00:09<00:00, 21.85it/s, now=None]\u001b[A\n",
            "t:  97% 233/241 [00:09<00:00, 18.61it/s, now=None]\u001b[A\n",
            "t:  98% 236/241 [00:09<00:00, 20.25it/s, now=None]\u001b[A\n",
            "t:  99% 239/241 [00:10<00:00, 19.58it/s, now=None]\u001b[A\n",
            "Moviepy - Done !\n",
            "Moviepy - video ready video/photo_2020-06-22_18-58-17_circle.mp4\n",
            "  0% 0/4 [07:06<?, ?it/s]^C\n"
          ],
          "name": "stdout"
        }
      ]
    },
    {
      "cell_type": "markdown",
      "metadata": {
        "id": "wPvkMT0msIJB"
      },
      "source": [
        "- **The results are stored in the following directories**\n",
        "  - Corresponding depth map estimated by [MiDaS](https://github.com/intel-isl/MiDaS.git) \n",
        "      - E.g. ```/content/3d-photo-inpainting/depth/moon.npy```\n",
        "  - Inpainted 3D mesh\n",
        "      - E.g. ```/content/3d-photo-inpainting/mesh/moon.ply```\n",
        "  - Rendered videos with zoom-in motion\n",
        "      - E.g. ```/content/3d-photo-inpainting/video/moon_zoom-in.mp4```\n",
        "  - Rendered videos with swing motion\n",
        "      - E.g. ```/content/3d-photo-inpainting/video/moon_swing.mp4```\n",
        "  - Rendered videos with circle motion\n",
        "      - E.g. ```/content/3d-photo-inpainting/video/moon_circle.mp4```\n",
        "  \n",
        "    ![](https://drive.google.com/uc?id=1xBiZAeGfhsoAsG08N5UM8-f993p0G5HF)"
      ]
    }
  ]
}